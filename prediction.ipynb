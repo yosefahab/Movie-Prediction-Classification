{
 "cells": [
  {
   "cell_type": "markdown",
   "metadata": {},
   "source": [
    "# Movie Revenue Prediction"
   ]
  },
  {
   "cell_type": "markdown",
   "metadata": {},
   "source": [
    "### Imports"
   ]
  },
  {
   "cell_type": "code",
   "execution_count": 1,
   "metadata": {},
   "outputs": [],
   "source": [
    "import pandas as pd\n",
    "import numpy as np\n",
    "import seaborn as sb\n",
    "import matplotlib.pyplot as plt\n",
    "\n",
    "from datetime import datetime as dt\n"
   ]
  },
  {
   "cell_type": "markdown",
   "metadata": {},
   "source": [
    "### Configurations"
   ]
  },
  {
   "cell_type": "code",
   "execution_count": 2,
   "metadata": {
    "tags": []
   },
   "outputs": [],
   "source": [
    "plt.rcParams[\"figure.figsize\"] = (20, 6)\n",
    "plt.style.use(\"dark_background\")\n",
    "endDel = \"\\n\\t\" + \"---\" * 15 + \"\\n\"\n",
    "pd.set_option(\"display.float_format\", \"{:,.0f}\".format)\n"
   ]
  },
  {
   "cell_type": "markdown",
   "metadata": {},
   "source": [
    "### Data Loading"
   ]
  },
  {
   "cell_type": "code",
   "execution_count": 3,
   "metadata": {},
   "outputs": [
    {
     "data": {
      "text/html": [
       "<div>\n",
       "<style scoped>\n",
       "    .dataframe tbody tr th:only-of-type {\n",
       "        vertical-align: middle;\n",
       "    }\n",
       "\n",
       "    .dataframe tbody tr th {\n",
       "        vertical-align: top;\n",
       "    }\n",
       "\n",
       "    .dataframe thead th {\n",
       "        text-align: right;\n",
       "    }\n",
       "</style>\n",
       "<table border=\"1\" class=\"dataframe\">\n",
       "  <thead>\n",
       "    <tr style=\"text-align: right;\">\n",
       "      <th></th>\n",
       "      <th>Movie_Title</th>\n",
       "      <th>Director</th>\n",
       "      <th>Character</th>\n",
       "      <th>Actor</th>\n",
       "      <th>Release_Date</th>\n",
       "      <th>Genre</th>\n",
       "      <th>MPAA_Rating</th>\n",
       "      <th>Revenue</th>\n",
       "    </tr>\n",
       "  </thead>\n",
       "  <tbody>\n",
       "    <tr>\n",
       "      <th>0</th>\n",
       "      <td>Snow White and the Seven Dwarfs</td>\n",
       "      <td>David Hand</td>\n",
       "      <td>Bashful</td>\n",
       "      <td>Scotty Mattraw</td>\n",
       "      <td>2037-12-21</td>\n",
       "      <td>Musical</td>\n",
       "      <td>G</td>\n",
       "      <td>5,228,953,251</td>\n",
       "    </tr>\n",
       "    <tr>\n",
       "      <th>1</th>\n",
       "      <td>Snow White and the Seven Dwarfs</td>\n",
       "      <td>David Hand</td>\n",
       "      <td>Doc</td>\n",
       "      <td>Roy Atwell</td>\n",
       "      <td>2037-12-21</td>\n",
       "      <td>Musical</td>\n",
       "      <td>G</td>\n",
       "      <td>5,228,953,251</td>\n",
       "    </tr>\n",
       "    <tr>\n",
       "      <th>2</th>\n",
       "      <td>Snow White and the Seven Dwarfs</td>\n",
       "      <td>David Hand</td>\n",
       "      <td>Dopey</td>\n",
       "      <td>Eddie Collins</td>\n",
       "      <td>2037-12-21</td>\n",
       "      <td>Musical</td>\n",
       "      <td>G</td>\n",
       "      <td>5,228,953,251</td>\n",
       "    </tr>\n",
       "    <tr>\n",
       "      <th>3</th>\n",
       "      <td>Snow White and the Seven Dwarfs</td>\n",
       "      <td>David Hand</td>\n",
       "      <td>Grumpy</td>\n",
       "      <td>Pinto Colvig</td>\n",
       "      <td>2037-12-21</td>\n",
       "      <td>Musical</td>\n",
       "      <td>G</td>\n",
       "      <td>5,228,953,251</td>\n",
       "    </tr>\n",
       "    <tr>\n",
       "      <th>4</th>\n",
       "      <td>Snow White and the Seven Dwarfs</td>\n",
       "      <td>David Hand</td>\n",
       "      <td>Happy</td>\n",
       "      <td>Otis Harlan</td>\n",
       "      <td>2037-12-21</td>\n",
       "      <td>Musical</td>\n",
       "      <td>G</td>\n",
       "      <td>5,228,953,251</td>\n",
       "    </tr>\n",
       "    <tr>\n",
       "      <th>...</th>\n",
       "      <td>...</td>\n",
       "      <td>...</td>\n",
       "      <td>...</td>\n",
       "      <td>...</td>\n",
       "      <td>...</td>\n",
       "      <td>...</td>\n",
       "      <td>...</td>\n",
       "      <td>...</td>\n",
       "    </tr>\n",
       "    <tr>\n",
       "      <th>1245</th>\n",
       "      <td>Encino Man</td>\n",
       "      <td>NaN</td>\n",
       "      <td>NaN</td>\n",
       "      <td>NaN</td>\n",
       "      <td>1992-05-22</td>\n",
       "      <td>Comedy</td>\n",
       "      <td>PG</td>\n",
       "      <td>81,369,058</td>\n",
       "    </tr>\n",
       "    <tr>\n",
       "      <th>1246</th>\n",
       "      <td>Sweet Home Alabama</td>\n",
       "      <td>NaN</td>\n",
       "      <td>NaN</td>\n",
       "      <td>NaN</td>\n",
       "      <td>2002-09-27</td>\n",
       "      <td>Comedy</td>\n",
       "      <td>PG-13</td>\n",
       "      <td>184,521,151</td>\n",
       "    </tr>\n",
       "    <tr>\n",
       "      <th>1247</th>\n",
       "      <td>Play it to the Bone</td>\n",
       "      <td>NaN</td>\n",
       "      <td>NaN</td>\n",
       "      <td>NaN</td>\n",
       "      <td>1999-12-24</td>\n",
       "      <td>Comedy</td>\n",
       "      <td>R</td>\n",
       "      <td>13,180,524</td>\n",
       "    </tr>\n",
       "    <tr>\n",
       "      <th>1248</th>\n",
       "      <td>The Odd Life of Timothy Green</td>\n",
       "      <td>NaN</td>\n",
       "      <td>NaN</td>\n",
       "      <td>NaN</td>\n",
       "      <td>2012-08-15</td>\n",
       "      <td>Drama</td>\n",
       "      <td>PG</td>\n",
       "      <td>54,914,942</td>\n",
       "    </tr>\n",
       "    <tr>\n",
       "      <th>1249</th>\n",
       "      <td>Honey I Blew Up the Kid</td>\n",
       "      <td>NaN</td>\n",
       "      <td>NaN</td>\n",
       "      <td>NaN</td>\n",
       "      <td>1992-07-17</td>\n",
       "      <td>Comedy</td>\n",
       "      <td>PG</td>\n",
       "      <td>119,162,518</td>\n",
       "    </tr>\n",
       "  </tbody>\n",
       "</table>\n",
       "<p>1250 rows × 8 columns</p>\n",
       "</div>"
      ],
      "text/plain": [
       "                          Movie_Title    Director Character           Actor  \\\n",
       "0     Snow White and the Seven Dwarfs  David Hand   Bashful  Scotty Mattraw   \n",
       "1     Snow White and the Seven Dwarfs  David Hand       Doc      Roy Atwell   \n",
       "2     Snow White and the Seven Dwarfs  David Hand     Dopey   Eddie Collins   \n",
       "3     Snow White and the Seven Dwarfs  David Hand    Grumpy    Pinto Colvig   \n",
       "4     Snow White and the Seven Dwarfs  David Hand     Happy     Otis Harlan   \n",
       "...                               ...         ...       ...             ...   \n",
       "1245                       Encino Man         NaN       NaN             NaN   \n",
       "1246               Sweet Home Alabama         NaN       NaN             NaN   \n",
       "1247              Play it to the Bone         NaN       NaN             NaN   \n",
       "1248    The Odd Life of Timothy Green         NaN       NaN             NaN   \n",
       "1249          Honey I Blew Up the Kid         NaN       NaN             NaN   \n",
       "\n",
       "     Release_Date    Genre MPAA_Rating       Revenue  \n",
       "0      2037-12-21  Musical           G 5,228,953,251  \n",
       "1      2037-12-21  Musical           G 5,228,953,251  \n",
       "2      2037-12-21  Musical           G 5,228,953,251  \n",
       "3      2037-12-21  Musical           G 5,228,953,251  \n",
       "4      2037-12-21  Musical           G 5,228,953,251  \n",
       "...           ...      ...         ...           ...  \n",
       "1245   1992-05-22   Comedy          PG    81,369,058  \n",
       "1246   2002-09-27   Comedy       PG-13   184,521,151  \n",
       "1247   1999-12-24   Comedy           R    13,180,524  \n",
       "1248   2012-08-15    Drama          PG    54,914,942  \n",
       "1249   1992-07-17   Comedy          PG   119,162,518  \n",
       "\n",
       "[1250 rows x 8 columns]"
      ]
     },
     "execution_count": 3,
     "metadata": {},
     "output_type": "execute_result"
    }
   ],
   "source": [
    "directors = pd.read_csv(\"Training_data/Prediction_data/movie-director.csv\", header=0, names=[\"Movie_Title\", \"Director\"])\n",
    "actors = pd.read_csv(\n",
    "    \"Training_data/Prediction_data/movie-voice-actors.csv\", header=0, names=[\"Character\", \"Actor\", \"Movie_Title\"]\n",
    ")\n",
    "revenues = pd.read_csv(\n",
    "    \"Training_data/Prediction_data/movies-revenue.csv\",\n",
    "    header=0,\n",
    "    names=[\"Movie_Title\", \"Release_Date\", \"Genre\", \"MPAA_Rating\", \"Revenue\"],\n",
    ")\n",
    "revenues.Revenue = pd.to_numeric(revenues.Revenue.str.replace(r\"\\D\", \"\", regex=True))\n",
    "revenues.Release_Date = pd.to_datetime(revenues.Release_Date, format=\"%d-%b-%y\")\n",
    "\n",
    "original_data = pd.merge(directors, pd.merge(actors, revenues, on=\"Movie_Title\", how=\"outer\"), on=\"Movie_Title\", how=\"outer\")\n",
    "original_data\n"
   ]
  },
  {
   "cell_type": "markdown",
   "metadata": {},
   "source": [
    "### Data Exploration"
   ]
  },
  {
   "cell_type": "code",
   "execution_count": 4,
   "metadata": {},
   "outputs": [
    {
     "data": {
      "text/html": [
       "<div>\n",
       "<style scoped>\n",
       "    .dataframe tbody tr th:only-of-type {\n",
       "        vertical-align: middle;\n",
       "    }\n",
       "\n",
       "    .dataframe tbody tr th {\n",
       "        vertical-align: top;\n",
       "    }\n",
       "\n",
       "    .dataframe thead th {\n",
       "        text-align: right;\n",
       "    }\n",
       "</style>\n",
       "<table border=\"1\" class=\"dataframe\">\n",
       "  <thead>\n",
       "    <tr style=\"text-align: right;\">\n",
       "      <th></th>\n",
       "      <th>Movie_Title</th>\n",
       "      <th>Director</th>\n",
       "      <th>Character</th>\n",
       "      <th>Actor</th>\n",
       "      <th>Release_Date</th>\n",
       "      <th>Genre</th>\n",
       "      <th>MPAA_Rating</th>\n",
       "      <th>Revenue</th>\n",
       "    </tr>\n",
       "  </thead>\n",
       "  <tbody>\n",
       "    <tr>\n",
       "      <th>0</th>\n",
       "      <td>Snow White and the Seven Dwarfs</td>\n",
       "      <td>David Hand</td>\n",
       "      <td>Bashful</td>\n",
       "      <td>Scotty Mattraw</td>\n",
       "      <td>2037-12-21</td>\n",
       "      <td>Musical</td>\n",
       "      <td>G</td>\n",
       "      <td>5,228,953,251</td>\n",
       "    </tr>\n",
       "    <tr>\n",
       "      <th>1</th>\n",
       "      <td>Snow White and the Seven Dwarfs</td>\n",
       "      <td>David Hand</td>\n",
       "      <td>Doc</td>\n",
       "      <td>Roy Atwell</td>\n",
       "      <td>2037-12-21</td>\n",
       "      <td>Musical</td>\n",
       "      <td>G</td>\n",
       "      <td>5,228,953,251</td>\n",
       "    </tr>\n",
       "    <tr>\n",
       "      <th>2</th>\n",
       "      <td>Snow White and the Seven Dwarfs</td>\n",
       "      <td>David Hand</td>\n",
       "      <td>Dopey</td>\n",
       "      <td>Eddie Collins</td>\n",
       "      <td>2037-12-21</td>\n",
       "      <td>Musical</td>\n",
       "      <td>G</td>\n",
       "      <td>5,228,953,251</td>\n",
       "    </tr>\n",
       "    <tr>\n",
       "      <th>3</th>\n",
       "      <td>Snow White and the Seven Dwarfs</td>\n",
       "      <td>David Hand</td>\n",
       "      <td>Grumpy</td>\n",
       "      <td>Pinto Colvig</td>\n",
       "      <td>2037-12-21</td>\n",
       "      <td>Musical</td>\n",
       "      <td>G</td>\n",
       "      <td>5,228,953,251</td>\n",
       "    </tr>\n",
       "    <tr>\n",
       "      <th>4</th>\n",
       "      <td>Snow White and the Seven Dwarfs</td>\n",
       "      <td>David Hand</td>\n",
       "      <td>Happy</td>\n",
       "      <td>Otis Harlan</td>\n",
       "      <td>2037-12-21</td>\n",
       "      <td>Musical</td>\n",
       "      <td>G</td>\n",
       "      <td>5,228,953,251</td>\n",
       "    </tr>\n",
       "  </tbody>\n",
       "</table>\n",
       "</div>"
      ],
      "text/plain": [
       "                       Movie_Title    Director Character           Actor  \\\n",
       "0  Snow White and the Seven Dwarfs  David Hand   Bashful  Scotty Mattraw   \n",
       "1  Snow White and the Seven Dwarfs  David Hand       Doc      Roy Atwell   \n",
       "2  Snow White and the Seven Dwarfs  David Hand     Dopey   Eddie Collins   \n",
       "3  Snow White and the Seven Dwarfs  David Hand    Grumpy    Pinto Colvig   \n",
       "4  Snow White and the Seven Dwarfs  David Hand     Happy     Otis Harlan   \n",
       "\n",
       "  Release_Date    Genre MPAA_Rating       Revenue  \n",
       "0   2037-12-21  Musical           G 5,228,953,251  \n",
       "1   2037-12-21  Musical           G 5,228,953,251  \n",
       "2   2037-12-21  Musical           G 5,228,953,251  \n",
       "3   2037-12-21  Musical           G 5,228,953,251  \n",
       "4   2037-12-21  Musical           G 5,228,953,251  "
      ]
     },
     "execution_count": 4,
     "metadata": {},
     "output_type": "execute_result"
    }
   ],
   "source": [
    "original_data.head()\n"
   ]
  },
  {
   "cell_type": "code",
   "execution_count": 5,
   "metadata": {},
   "outputs": [
    {
     "data": {
      "text/plain": [
       "Movie_Title       0\n",
       "Director        714\n",
       "Character       424\n",
       "Actor           424\n",
       "Release_Date    353\n",
       "Genre           367\n",
       "MPAA_Rating     458\n",
       "Revenue         353\n",
       "dtype: int64"
      ]
     },
     "execution_count": 5,
     "metadata": {},
     "output_type": "execute_result"
    }
   ],
   "source": [
    "original_data.isna().sum()\n"
   ]
  },
  {
   "cell_type": "code",
   "execution_count": 6,
   "metadata": {},
   "outputs": [
    {
     "data": {
      "text/html": [
       "<div>\n",
       "<style scoped>\n",
       "    .dataframe tbody tr th:only-of-type {\n",
       "        vertical-align: middle;\n",
       "    }\n",
       "\n",
       "    .dataframe tbody tr th {\n",
       "        vertical-align: top;\n",
       "    }\n",
       "\n",
       "    .dataframe thead th {\n",
       "        text-align: right;\n",
       "    }\n",
       "</style>\n",
       "<table border=\"1\" class=\"dataframe\">\n",
       "  <thead>\n",
       "    <tr style=\"text-align: right;\">\n",
       "      <th></th>\n",
       "      <th>Revenue</th>\n",
       "    </tr>\n",
       "  </thead>\n",
       "  <tbody>\n",
       "    <tr>\n",
       "      <th>count</th>\n",
       "      <td>897</td>\n",
       "    </tr>\n",
       "    <tr>\n",
       "      <th>mean</th>\n",
       "      <td>256,307,552</td>\n",
       "    </tr>\n",
       "    <tr>\n",
       "      <th>std</th>\n",
       "      <td>636,767,911</td>\n",
       "    </tr>\n",
       "    <tr>\n",
       "      <th>min</th>\n",
       "      <td>0</td>\n",
       "    </tr>\n",
       "    <tr>\n",
       "      <th>25%</th>\n",
       "      <td>50,553,142</td>\n",
       "    </tr>\n",
       "    <tr>\n",
       "      <th>50%</th>\n",
       "      <td>119,860,589</td>\n",
       "    </tr>\n",
       "    <tr>\n",
       "      <th>75%</th>\n",
       "      <td>216,807,832</td>\n",
       "    </tr>\n",
       "    <tr>\n",
       "      <th>max</th>\n",
       "      <td>5,228,953,251</td>\n",
       "    </tr>\n",
       "  </tbody>\n",
       "</table>\n",
       "</div>"
      ],
      "text/plain": [
       "            Revenue\n",
       "count           897\n",
       "mean    256,307,552\n",
       "std     636,767,911\n",
       "min               0\n",
       "25%      50,553,142\n",
       "50%     119,860,589\n",
       "75%     216,807,832\n",
       "max   5,228,953,251"
      ]
     },
     "execution_count": 6,
     "metadata": {},
     "output_type": "execute_result"
    }
   ],
   "source": [
    "original_data.describe()\n"
   ]
  },
  {
   "cell_type": "code",
   "execution_count": 7,
   "metadata": {},
   "outputs": [
    {
     "name": "stdout",
     "output_type": "stream",
     "text": [
      "['Musical' nan 'Drama' 'Adventure' 'Comedy' 'Romantic Comedy' 'Action'\n",
      " 'Horror' 'Thriller/Suspense' 'Documentary' 'Black Comedy' 'Western'\n",
      " 'Concert/Performance']\n",
      "\t---------------------------------------------\n",
      "['G' nan 'PG' 'R' 'PG-13' 'Not Rated']\n",
      "\t---------------------------------------------\n",
      "['David Hand' 'full credits' 'Ben Sharpsteen' 'Jack Kinney'\n",
      " 'Norman Ferguson' 'Clyde Geronimi' 'Wilfred Jackson' 'Hamilton Luske'\n",
      " 'Wolfgang Reitherman' 'Art Stevens' 'Ted Berman' 'Ron Clements'\n",
      " 'Mike Gabriel' 'Gary Trousdale' 'Barry Cook' 'Chris Buck' 'Ralph Zondag'\n",
      " 'Mark Dindal' 'Chris Sanders' 'Robert Walker' 'Will Finn'\n",
      " 'Stephen J. Anderson' 'Nathan Greno' 'Rich Moore' 'Byron Howard' nan]\n",
      "\t---------------------------------------------\n"
     ]
    }
   ],
   "source": [
    "print(original_data.Genre.unique(), end=endDel)\n",
    "print(original_data.MPAA_Rating.unique(), end=endDel)\n",
    "print(original_data.Director.unique(), end=endDel)\n"
   ]
  },
  {
   "cell_type": "code",
   "execution_count": 8,
   "metadata": {},
   "outputs": [
    {
     "data": {
      "text/plain": [
       "count                              897\n",
       "mean     2003-01-01 07:55:11.036789376\n",
       "min                1970-04-24 00:00:00\n",
       "25%                1992-11-11 00:00:00\n",
       "50%                2000-11-22 00:00:00\n",
       "75%                2009-11-25 00:00:00\n",
       "max                2068-02-08 00:00:00\n",
       "Name: Release_Date, dtype: object"
      ]
     },
     "execution_count": 8,
     "metadata": {},
     "output_type": "execute_result"
    }
   ],
   "source": [
    "# Some dates are incorrectly parsed\n",
    "original_data.Release_Date.describe(datetime_is_numeric=True)\n"
   ]
  },
  {
   "cell_type": "markdown",
   "metadata": {},
   "source": [
    "### Data Cleaning"
   ]
  },
  {
   "cell_type": "code",
   "execution_count": 9,
   "metadata": {},
   "outputs": [],
   "source": [
    "original_data.dropna(subset=[\"Revenue\"], inplace=True)\n",
    "original_data.MPAA_Rating.fillna(\"Not Rated\", inplace=True)\n",
    "original_data.Director.fillna(\"Other\", inplace=True)\n",
    "original_data.Genre.fillna(\"Other\", inplace=True)\n"
   ]
  },
  {
   "cell_type": "code",
   "execution_count": 10,
   "metadata": {},
   "outputs": [
    {
     "data": {
      "text/html": [
       "<div>\n",
       "<style scoped>\n",
       "    .dataframe tbody tr th:only-of-type {\n",
       "        vertical-align: middle;\n",
       "    }\n",
       "\n",
       "    .dataframe tbody tr th {\n",
       "        vertical-align: top;\n",
       "    }\n",
       "\n",
       "    .dataframe thead th {\n",
       "        text-align: right;\n",
       "    }\n",
       "</style>\n",
       "<table border=\"1\" class=\"dataframe\">\n",
       "  <thead>\n",
       "    <tr style=\"text-align: right;\">\n",
       "      <th></th>\n",
       "      <th>Movie_Title</th>\n",
       "      <th>Director</th>\n",
       "      <th>Character</th>\n",
       "      <th>Actor</th>\n",
       "      <th>Release_Date</th>\n",
       "      <th>Genre</th>\n",
       "      <th>MPAA_Rating</th>\n",
       "      <th>Revenue</th>\n",
       "    </tr>\n",
       "  </thead>\n",
       "  <tbody>\n",
       "    <tr>\n",
       "      <th>182</th>\n",
       "      <td>The Many Adventures of Winnie the Pooh</td>\n",
       "      <td>Wolfgang Reitherman</td>\n",
       "      <td>NaN</td>\n",
       "      <td>NaN</td>\n",
       "      <td>1977-03-11</td>\n",
       "      <td>Other</td>\n",
       "      <td>Not Rated</td>\n",
       "      <td>0</td>\n",
       "    </tr>\n",
       "    <tr>\n",
       "      <th>484</th>\n",
       "      <td>Winnie the Pooh</td>\n",
       "      <td>Stephen J. Anderson</td>\n",
       "      <td>NaN</td>\n",
       "      <td>NaN</td>\n",
       "      <td>2011-07-15</td>\n",
       "      <td>Adventure</td>\n",
       "      <td>G</td>\n",
       "      <td>28,375,869</td>\n",
       "    </tr>\n",
       "    <tr>\n",
       "      <th>828</th>\n",
       "      <td>Recess: School's Out</td>\n",
       "      <td>Other</td>\n",
       "      <td>NaN</td>\n",
       "      <td>NaN</td>\n",
       "      <td>2001-02-16</td>\n",
       "      <td>Comedy</td>\n",
       "      <td>G</td>\n",
       "      <td>54,656,124</td>\n",
       "    </tr>\n",
       "    <tr>\n",
       "      <th>829</th>\n",
       "      <td>D2: The Mighty Ducks</td>\n",
       "      <td>Other</td>\n",
       "      <td>NaN</td>\n",
       "      <td>NaN</td>\n",
       "      <td>1994-03-25</td>\n",
       "      <td>Comedy</td>\n",
       "      <td>PG</td>\n",
       "      <td>94,226,333</td>\n",
       "    </tr>\n",
       "    <tr>\n",
       "      <th>830</th>\n",
       "      <td>Young Black Stallion</td>\n",
       "      <td>Other</td>\n",
       "      <td>NaN</td>\n",
       "      <td>NaN</td>\n",
       "      <td>2003-12-25</td>\n",
       "      <td>Adventure</td>\n",
       "      <td>G</td>\n",
       "      <td>9,254,344</td>\n",
       "    </tr>\n",
       "    <tr>\n",
       "      <th>...</th>\n",
       "      <td>...</td>\n",
       "      <td>...</td>\n",
       "      <td>...</td>\n",
       "      <td>...</td>\n",
       "      <td>...</td>\n",
       "      <td>...</td>\n",
       "      <td>...</td>\n",
       "      <td>...</td>\n",
       "    </tr>\n",
       "    <tr>\n",
       "      <th>1245</th>\n",
       "      <td>Encino Man</td>\n",
       "      <td>Other</td>\n",
       "      <td>NaN</td>\n",
       "      <td>NaN</td>\n",
       "      <td>1992-05-22</td>\n",
       "      <td>Comedy</td>\n",
       "      <td>PG</td>\n",
       "      <td>81,369,058</td>\n",
       "    </tr>\n",
       "    <tr>\n",
       "      <th>1246</th>\n",
       "      <td>Sweet Home Alabama</td>\n",
       "      <td>Other</td>\n",
       "      <td>NaN</td>\n",
       "      <td>NaN</td>\n",
       "      <td>2002-09-27</td>\n",
       "      <td>Comedy</td>\n",
       "      <td>PG-13</td>\n",
       "      <td>184,521,151</td>\n",
       "    </tr>\n",
       "    <tr>\n",
       "      <th>1247</th>\n",
       "      <td>Play it to the Bone</td>\n",
       "      <td>Other</td>\n",
       "      <td>NaN</td>\n",
       "      <td>NaN</td>\n",
       "      <td>1999-12-24</td>\n",
       "      <td>Comedy</td>\n",
       "      <td>R</td>\n",
       "      <td>13,180,524</td>\n",
       "    </tr>\n",
       "    <tr>\n",
       "      <th>1248</th>\n",
       "      <td>The Odd Life of Timothy Green</td>\n",
       "      <td>Other</td>\n",
       "      <td>NaN</td>\n",
       "      <td>NaN</td>\n",
       "      <td>2012-08-15</td>\n",
       "      <td>Drama</td>\n",
       "      <td>PG</td>\n",
       "      <td>54,914,942</td>\n",
       "    </tr>\n",
       "    <tr>\n",
       "      <th>1249</th>\n",
       "      <td>Honey I Blew Up the Kid</td>\n",
       "      <td>Other</td>\n",
       "      <td>NaN</td>\n",
       "      <td>NaN</td>\n",
       "      <td>1992-07-17</td>\n",
       "      <td>Comedy</td>\n",
       "      <td>PG</td>\n",
       "      <td>119,162,518</td>\n",
       "    </tr>\n",
       "  </tbody>\n",
       "</table>\n",
       "<p>424 rows × 8 columns</p>\n",
       "</div>"
      ],
      "text/plain": [
       "                                 Movie_Title             Director Character  \\\n",
       "182   The Many Adventures of Winnie the Pooh  Wolfgang Reitherman       NaN   \n",
       "484                          Winnie the Pooh  Stephen J. Anderson       NaN   \n",
       "828                     Recess: School's Out                Other       NaN   \n",
       "829                     D2: The Mighty Ducks                Other       NaN   \n",
       "830                     Young Black Stallion                Other       NaN   \n",
       "...                                      ...                  ...       ...   \n",
       "1245                              Encino Man                Other       NaN   \n",
       "1246                      Sweet Home Alabama                Other       NaN   \n",
       "1247                     Play it to the Bone                Other       NaN   \n",
       "1248           The Odd Life of Timothy Green                Other       NaN   \n",
       "1249                 Honey I Blew Up the Kid                Other       NaN   \n",
       "\n",
       "     Actor Release_Date      Genre MPAA_Rating     Revenue  \n",
       "182    NaN   1977-03-11      Other   Not Rated           0  \n",
       "484    NaN   2011-07-15  Adventure           G  28,375,869  \n",
       "828    NaN   2001-02-16     Comedy           G  54,656,124  \n",
       "829    NaN   1994-03-25     Comedy          PG  94,226,333  \n",
       "830    NaN   2003-12-25  Adventure           G   9,254,344  \n",
       "...    ...          ...        ...         ...         ...  \n",
       "1245   NaN   1992-05-22     Comedy          PG  81,369,058  \n",
       "1246   NaN   2002-09-27     Comedy       PG-13 184,521,151  \n",
       "1247   NaN   1999-12-24     Comedy           R  13,180,524  \n",
       "1248   NaN   2012-08-15      Drama          PG  54,914,942  \n",
       "1249   NaN   1992-07-17     Comedy          PG 119,162,518  \n",
       "\n",
       "[424 rows x 8 columns]"
      ]
     },
     "execution_count": 10,
     "metadata": {},
     "output_type": "execute_result"
    }
   ],
   "source": [
    "original_data.isna().sum()\n",
    "original_data[original_data.Character.isna()]\n",
    "original_data[original_data.Actor.isna()]\n"
   ]
  },
  {
   "cell_type": "code",
   "execution_count": 11,
   "metadata": {},
   "outputs": [
    {
     "data": {
      "text/plain": [
       "count                              897\n",
       "mean     1995-11-13 07:26:17.257525120\n",
       "min                1937-12-21 00:00:00\n",
       "25%                1990-11-16 00:00:00\n",
       "50%                1998-06-19 00:00:00\n",
       "75%                2007-03-30 00:00:00\n",
       "max                2016-12-16 00:00:00\n",
       "Name: Release_Date, dtype: object"
      ]
     },
     "execution_count": 11,
     "metadata": {},
     "output_type": "execute_result"
    }
   ],
   "source": [
    "# Fix incorrect year parsing\n",
    "original_data.Release_Date = original_data.Release_Date.apply(\n",
    "    lambda x: x.replace(year=x.year - 100 if x.year > dt.today().year else x.year)\n",
    ")\n",
    "original_data.Release_Date.describe(datetime_is_numeric=True)\n"
   ]
  },
  {
   "cell_type": "markdown",
   "metadata": {},
   "source": [
    "### Visualization"
   ]
  },
  {
   "cell_type": "code",
   "execution_count": 12,
   "metadata": {},
   "outputs": [],
   "source": [
    "# Drop duplicate movies FOR VISUALIZATION\n",
    "unique_records = original_data.drop_duplicates(subset=[\"Movie_Title\"])\n"
   ]
  },
  {
   "cell_type": "markdown",
   "metadata": {},
   "source": [
    "#### Frequency of Genres & MPAA_Ratings"
   ]
  },
  {
   "cell_type": "code",
   "execution_count": 13,
   "metadata": {},
   "outputs": [
    {
     "data": {
      "text/plain": [
       "<AxesSubplot:title={'center':'MPAA_Rating'}>"
      ]
     },
     "execution_count": 13,
     "metadata": {},
     "output_type": "execute_result"
    },
    {
     "data": {
      "image/png": "[encoded data removed]",
      "text/plain": [
       "<Figure size 1440x432 with 2 Axes>"
      ]
     },
     "metadata": {
      "needs_background": "dark"
     },
     "output_type": "display_data"
    }
   ],
   "source": [
    "_, ax = plt.subplots(1, 2, figsize=(20, 6))\n",
    "unique_records.Genre.value_counts().plot(ax=ax[0], kind=\"bar\", title=\"Genre\")\n",
    "unique_records.MPAA_Rating.value_counts().plot(ax=ax[1], kind=\"bar\", title=\"MPAA_Rating\")\n"
   ]
  },
  {
   "cell_type": "markdown",
   "metadata": {},
   "source": [
    "#### How much revenue each Genre/Director contributed"
   ]
  },
  {
   "cell_type": "code",
   "execution_count": 14,
   "metadata": {},
   "outputs": [
    {
     "data": {
      "text/plain": [
       "<AxesSubplot:title={'center':'Directors'}, xlabel='Director'>"
      ]
     },
     "execution_count": 14,
     "metadata": {},
     "output_type": "execute_result"
    },
    {
     "data": {
      "image/png": "[encoded data removed]",
      "text/plain": [
       "<Figure size 1440x432 with 2 Axes>"
      ]
     },
     "metadata": {
      "needs_background": "dark"
     },
     "output_type": "display_data"
    }
   ],
   "source": [
    "_, ax = plt.subplots(1, 2, figsize=(20, 6))\n",
    "\n",
    "# dont consider 'other' genres\n",
    "pd.pivot_table(\n",
    "    unique_records[unique_records.Genre != \"Other\"],\n",
    "    index=\"Genre\",\n",
    "    values=\"Revenue\",\n",
    "    aggfunc=\"sum\",\n",
    ").plot(kind=\"bar\", ax=ax[0], title=\"Genres\")\n",
    "\n",
    "# dont consider 'other' directors\n",
    "pd.pivot_table(\n",
    "    unique_records[unique_records.Director != \"Other\"],\n",
    "    index=\"Director\",\n",
    "    values=\"Revenue\",\n",
    "    aggfunc=\"sum\",\n",
    ").plot(kind=\"bar\", ax=ax[1], title=\"Directors\")\n"
   ]
  },
  {
   "cell_type": "markdown",
   "metadata": {},
   "source": [
    "### Feature Engineering"
   ]
  },
  {
   "cell_type": "code",
   "execution_count": 15,
   "metadata": {},
   "outputs": [
    {
     "data": {
      "text/plain": [
       "0.5735498919541642"
      ]
     },
     "execution_count": 15,
     "metadata": {},
     "output_type": "execute_result"
    }
   ],
   "source": [
    "release_day = original_data.Release_Date.dt.day\n",
    "release_month = original_data.Release_Date.dt.month\n",
    "release_year = original_data.Release_Date.dt.year\n",
    "\n",
    "movie_age = dt.today().year - release_year\n",
    "movie_age.corr(original_data.Revenue)"
   ]
  },
  {
   "cell_type": "code",
   "execution_count": 16,
   "metadata": {},
   "outputs": [
    {
     "data": {
      "text/html": [
       "<div>\n",
       "<style scoped>\n",
       "    .dataframe tbody tr th:only-of-type {\n",
       "        vertical-align: middle;\n",
       "    }\n",
       "\n",
       "    .dataframe tbody tr th {\n",
       "        vertical-align: top;\n",
       "    }\n",
       "\n",
       "    .dataframe thead th {\n",
       "        text-align: right;\n",
       "    }\n",
       "</style>\n",
       "<table border=\"1\" class=\"dataframe\">\n",
       "  <thead>\n",
       "    <tr style=\"text-align: right;\">\n",
       "      <th></th>\n",
       "      <th>Revenue</th>\n",
       "    </tr>\n",
       "  </thead>\n",
       "  <tbody>\n",
       "    <tr>\n",
       "      <th>Revenue</th>\n",
       "      <td>1</td>\n",
       "    </tr>\n",
       "  </tbody>\n",
       "</table>\n",
       "</div>"
      ],
      "text/plain": [
       "         Revenue\n",
       "Revenue        1"
      ]
     },
     "execution_count": 16,
     "metadata": {},
     "output_type": "execute_result"
    }
   ],
   "source": [
    "original_data.corr()"
   ]
  },
  {
   "cell_type": "markdown",
   "metadata": {},
   "source": [
    "#### Movies ages histogram"
   ]
  },
  {
   "cell_type": "code",
   "execution_count": 17,
   "metadata": {},
   "outputs": [
    {
     "data": {
      "text/plain": [
       "<AxesSubplot:ylabel='Frequency'>"
      ]
     },
     "execution_count": 17,
     "metadata": {},
     "output_type": "execute_result"
    },
    {
     "data": {
      "image/png": "[encoded data removed]",
      "text/plain": [
       "<Figure size 1440x432 with 1 Axes>"
      ]
     },
     "metadata": {
      "needs_background": "dark"
     },
     "output_type": "display_data"
    }
   ],
   "source": [
    "movie_age.plot(kind=\"hist\", figsize=(20, 6))\n",
    "(dt.today().year - unique_records.Release_Date.dt.year).plot(\n",
    "    kind=\"hist\", figsize=(20, 6)\n",
    ")  # unique records also retain the same age distribution\n"
   ]
  },
  {
   "cell_type": "markdown",
   "metadata": {},
   "source": [
    "### Data Preprocessing"
   ]
  },
  {
   "cell_type": "markdown",
   "metadata": {},
   "source": [
    "### Basic Models"
   ]
  },
  {
   "cell_type": "markdown",
   "metadata": {},
   "source": [
    "### Ensemble Models"
   ]
  },
  {
   "cell_type": "markdown",
   "metadata": {},
   "source": [
    "### Grid Search"
   ]
  },
  {
   "cell_type": "markdown",
   "metadata": {},
   "source": [
    "### Models Testing"
   ]
  }
 ],
 "metadata": {
  "kernelspec": {
   "display_name": "Python 3.9.15 64-bit",
   "language": "python",
   "name": "python3"
  },
  "language_info": {
   "codemirror_mode": {
    "name": "ipython",
    "version": 3
   },
   "file_extension": ".py",
   "mimetype": "text/x-python",
   "name": "python",
   "nbconvert_exporter": "python",
   "pygments_lexer": "ipython3",
   "version": "3.9.15"
  },
  "orig_nbformat": 4,
  "vscode": {
   "interpreter": {
    "hash": "a665b5d41d17b532ea9890333293a1b812fa0b73c9c25c950b3cedf1bebd0438"
   }
  }
 },
 "nbformat": 4,
 "nbformat_minor": 2
}
