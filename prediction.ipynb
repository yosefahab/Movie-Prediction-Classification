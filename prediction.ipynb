{
 "cells": [
  {
   "cell_type": "markdown",
   "metadata": {},
   "source": [
    "# Movie Revenue Prediction"
   ]
  },
  {
   "cell_type": "markdown",
   "metadata": {},
   "source": [
    "### Imports"
   ]
  },
  {
   "cell_type": "code",
   "execution_count": 1,
   "metadata": {},
   "outputs": [],
   "source": [
    "import pandas as pd\n",
    "import numpy as np\n",
    "import seaborn as sb\n",
    "import matplotlib.pyplot as plt\n",
    "\n",
    "from datetime import datetime as dt\n",
    "\n",
    "# preprocessing\n",
    "from sklearn.preprocessing import OneHotEncoder\n",
    "\n",
    "from sklearn.compose import make_column_transformer\n",
    "\n",
    "# models\n",
    "from sklearn.linear_model import LogisticRegression\n",
    "from sklearn.linear_model import ridge_regression\n",
    "from sklearn.linear_model import LinearRegression\n",
    "\n",
    "# tuning\n",
    "from sklearn.pipeline import make_pipeline\n",
    "from sklearn.model_selection import GridSearchCV\n",
    "\n",
    "# evaluation\n",
    "from sklearn.model_selection import cross_val_score\n",
    "\n",
    "from sklearn import metrics\n"
   ]
  },
  {
   "cell_type": "markdown",
   "metadata": {},
   "source": [
    "### Configurations"
   ]
  },
  {
   "cell_type": "code",
   "execution_count": 2,
   "metadata": {
    "tags": []
   },
   "outputs": [],
   "source": [
    "plt.rcParams[\"figure.figsize\"] = (20, 6)\n",
    "plt.style.use(\"dark_background\")\n",
    "ENDDEL = \"\\n\\t\" + \"---\" * 15 + \"\\n\"\n",
    "pd.set_option(\"display.float_format\", \"{:,.0f}\".format)\n"
   ]
  },
  {
   "cell_type": "markdown",
   "metadata": {},
   "source": [
    "### Data Loading"
   ]
  },
  {
   "cell_type": "code",
   "execution_count": 3,
   "metadata": {},
   "outputs": [
    {
     "data": {
      "text/html": [
       "<div>\n",
       "<style scoped>\n",
       "    .dataframe tbody tr th:only-of-type {\n",
       "        vertical-align: middle;\n",
       "    }\n",
       "\n",
       "    .dataframe tbody tr th {\n",
       "        vertical-align: top;\n",
       "    }\n",
       "\n",
       "    .dataframe thead th {\n",
       "        text-align: right;\n",
       "    }\n",
       "</style>\n",
       "<table border=\"1\" class=\"dataframe\">\n",
       "  <thead>\n",
       "    <tr style=\"text-align: right;\">\n",
       "      <th></th>\n",
       "      <th>Movie_Title</th>\n",
       "      <th>Director</th>\n",
       "      <th>Character</th>\n",
       "      <th>Actor</th>\n",
       "      <th>Release_Date</th>\n",
       "      <th>Genre</th>\n",
       "      <th>MPAA_Rating</th>\n",
       "      <th>Revenue</th>\n",
       "    </tr>\n",
       "  </thead>\n",
       "  <tbody>\n",
       "    <tr>\n",
       "      <th>0</th>\n",
       "      <td>Snow White and the Seven Dwarfs</td>\n",
       "      <td>David Hand</td>\n",
       "      <td>Bashful</td>\n",
       "      <td>Scotty Mattraw</td>\n",
       "      <td>2037-12-21</td>\n",
       "      <td>Musical</td>\n",
       "      <td>G</td>\n",
       "      <td>5,228,953,251</td>\n",
       "    </tr>\n",
       "    <tr>\n",
       "      <th>1</th>\n",
       "      <td>Snow White and the Seven Dwarfs</td>\n",
       "      <td>David Hand</td>\n",
       "      <td>Doc</td>\n",
       "      <td>Roy Atwell</td>\n",
       "      <td>2037-12-21</td>\n",
       "      <td>Musical</td>\n",
       "      <td>G</td>\n",
       "      <td>5,228,953,251</td>\n",
       "    </tr>\n",
       "    <tr>\n",
       "      <th>2</th>\n",
       "      <td>Snow White and the Seven Dwarfs</td>\n",
       "      <td>David Hand</td>\n",
       "      <td>Dopey</td>\n",
       "      <td>Eddie Collins</td>\n",
       "      <td>2037-12-21</td>\n",
       "      <td>Musical</td>\n",
       "      <td>G</td>\n",
       "      <td>5,228,953,251</td>\n",
       "    </tr>\n",
       "    <tr>\n",
       "      <th>3</th>\n",
       "      <td>Snow White and the Seven Dwarfs</td>\n",
       "      <td>David Hand</td>\n",
       "      <td>Grumpy</td>\n",
       "      <td>Pinto Colvig</td>\n",
       "      <td>2037-12-21</td>\n",
       "      <td>Musical</td>\n",
       "      <td>G</td>\n",
       "      <td>5,228,953,251</td>\n",
       "    </tr>\n",
       "    <tr>\n",
       "      <th>4</th>\n",
       "      <td>Snow White and the Seven Dwarfs</td>\n",
       "      <td>David Hand</td>\n",
       "      <td>Happy</td>\n",
       "      <td>Otis Harlan</td>\n",
       "      <td>2037-12-21</td>\n",
       "      <td>Musical</td>\n",
       "      <td>G</td>\n",
       "      <td>5,228,953,251</td>\n",
       "    </tr>\n",
       "  </tbody>\n",
       "</table>\n",
       "</div>"
      ],
      "text/plain": [
       "                       Movie_Title    Director Character           Actor  \\\n",
       "0  Snow White and the Seven Dwarfs  David Hand   Bashful  Scotty Mattraw   \n",
       "1  Snow White and the Seven Dwarfs  David Hand       Doc      Roy Atwell   \n",
       "2  Snow White and the Seven Dwarfs  David Hand     Dopey   Eddie Collins   \n",
       "3  Snow White and the Seven Dwarfs  David Hand    Grumpy    Pinto Colvig   \n",
       "4  Snow White and the Seven Dwarfs  David Hand     Happy     Otis Harlan   \n",
       "\n",
       "  Release_Date    Genre MPAA_Rating       Revenue  \n",
       "0   2037-12-21  Musical           G 5,228,953,251  \n",
       "1   2037-12-21  Musical           G 5,228,953,251  \n",
       "2   2037-12-21  Musical           G 5,228,953,251  \n",
       "3   2037-12-21  Musical           G 5,228,953,251  \n",
       "4   2037-12-21  Musical           G 5,228,953,251  "
      ]
     },
     "execution_count": 3,
     "metadata": {},
     "output_type": "execute_result"
    }
   ],
   "source": [
    "def load_data(train):\n",
    "    directory = \"Training_data/\" if train == True else \"Testing_data/\"\n",
    "    directors = pd.read_csv(directory + \"Prediction_data/movie-director.csv\", header=0, names=[\"Movie_Title\", \"Director\"])\n",
    "    actors = pd.read_csv(\n",
    "        directory + \"Prediction_data/movie-voice-actors.csv\", header=0, names=[\"Character\", \"Actor\", \"Movie_Title\"]\n",
    "    )\n",
    "    revenues = pd.read_csv(\n",
    "        directory + \"Prediction_data/movies-revenue.csv\",\n",
    "        header=0,\n",
    "        names=[\"Movie_Title\", \"Release_Date\", \"Genre\", \"MPAA_Rating\", \"Revenue\"],\n",
    "    )\n",
    "\n",
    "    revenues.Revenue = pd.to_numeric(revenues.Revenue.str.replace(r\"\\D\", \"\", regex=True))\n",
    "    revenues.Release_Date = pd.to_datetime(revenues.Release_Date, format=\"%d-%b-%y\")\n",
    "\n",
    "    return pd.merge(directors, pd.merge(actors, revenues, on=\"Movie_Title\", how=\"outer\"), on=\"Movie_Title\", how=\"outer\")\n",
    "\n",
    "\n",
    "original_data = load_data(True)\n",
    "original_data.head()\n"
   ]
  },
  {
   "cell_type": "markdown",
   "metadata": {},
   "source": [
    "### Data Exploration"
   ]
  },
  {
   "cell_type": "code",
   "execution_count": 4,
   "metadata": {},
   "outputs": [
    {
     "data": {
      "text/html": [
       "<div>\n",
       "<style scoped>\n",
       "    .dataframe tbody tr th:only-of-type {\n",
       "        vertical-align: middle;\n",
       "    }\n",
       "\n",
       "    .dataframe tbody tr th {\n",
       "        vertical-align: top;\n",
       "    }\n",
       "\n",
       "    .dataframe thead th {\n",
       "        text-align: right;\n",
       "    }\n",
       "</style>\n",
       "<table border=\"1\" class=\"dataframe\">\n",
       "  <thead>\n",
       "    <tr style=\"text-align: right;\">\n",
       "      <th></th>\n",
       "      <th>Movie_Title</th>\n",
       "      <th>Director</th>\n",
       "      <th>Character</th>\n",
       "      <th>Actor</th>\n",
       "      <th>Release_Date</th>\n",
       "      <th>Genre</th>\n",
       "      <th>MPAA_Rating</th>\n",
       "      <th>Revenue</th>\n",
       "    </tr>\n",
       "  </thead>\n",
       "  <tbody>\n",
       "    <tr>\n",
       "      <th>0</th>\n",
       "      <td>Snow White and the Seven Dwarfs</td>\n",
       "      <td>David Hand</td>\n",
       "      <td>Bashful</td>\n",
       "      <td>Scotty Mattraw</td>\n",
       "      <td>2037-12-21</td>\n",
       "      <td>Musical</td>\n",
       "      <td>G</td>\n",
       "      <td>5,228,953,251</td>\n",
       "    </tr>\n",
       "    <tr>\n",
       "      <th>1</th>\n",
       "      <td>Snow White and the Seven Dwarfs</td>\n",
       "      <td>David Hand</td>\n",
       "      <td>Doc</td>\n",
       "      <td>Roy Atwell</td>\n",
       "      <td>2037-12-21</td>\n",
       "      <td>Musical</td>\n",
       "      <td>G</td>\n",
       "      <td>5,228,953,251</td>\n",
       "    </tr>\n",
       "    <tr>\n",
       "      <th>2</th>\n",
       "      <td>Snow White and the Seven Dwarfs</td>\n",
       "      <td>David Hand</td>\n",
       "      <td>Dopey</td>\n",
       "      <td>Eddie Collins</td>\n",
       "      <td>2037-12-21</td>\n",
       "      <td>Musical</td>\n",
       "      <td>G</td>\n",
       "      <td>5,228,953,251</td>\n",
       "    </tr>\n",
       "    <tr>\n",
       "      <th>3</th>\n",
       "      <td>Snow White and the Seven Dwarfs</td>\n",
       "      <td>David Hand</td>\n",
       "      <td>Grumpy</td>\n",
       "      <td>Pinto Colvig</td>\n",
       "      <td>2037-12-21</td>\n",
       "      <td>Musical</td>\n",
       "      <td>G</td>\n",
       "      <td>5,228,953,251</td>\n",
       "    </tr>\n",
       "    <tr>\n",
       "      <th>4</th>\n",
       "      <td>Snow White and the Seven Dwarfs</td>\n",
       "      <td>David Hand</td>\n",
       "      <td>Happy</td>\n",
       "      <td>Otis Harlan</td>\n",
       "      <td>2037-12-21</td>\n",
       "      <td>Musical</td>\n",
       "      <td>G</td>\n",
       "      <td>5,228,953,251</td>\n",
       "    </tr>\n",
       "  </tbody>\n",
       "</table>\n",
       "</div>"
      ],
      "text/plain": [
       "                       Movie_Title    Director Character           Actor  \\\n",
       "0  Snow White and the Seven Dwarfs  David Hand   Bashful  Scotty Mattraw   \n",
       "1  Snow White and the Seven Dwarfs  David Hand       Doc      Roy Atwell   \n",
       "2  Snow White and the Seven Dwarfs  David Hand     Dopey   Eddie Collins   \n",
       "3  Snow White and the Seven Dwarfs  David Hand    Grumpy    Pinto Colvig   \n",
       "4  Snow White and the Seven Dwarfs  David Hand     Happy     Otis Harlan   \n",
       "\n",
       "  Release_Date    Genre MPAA_Rating       Revenue  \n",
       "0   2037-12-21  Musical           G 5,228,953,251  \n",
       "1   2037-12-21  Musical           G 5,228,953,251  \n",
       "2   2037-12-21  Musical           G 5,228,953,251  \n",
       "3   2037-12-21  Musical           G 5,228,953,251  \n",
       "4   2037-12-21  Musical           G 5,228,953,251  "
      ]
     },
     "execution_count": 4,
     "metadata": {},
     "output_type": "execute_result"
    }
   ],
   "source": [
    "original_data.head()\n"
   ]
  },
  {
   "cell_type": "code",
   "execution_count": 5,
   "metadata": {},
   "outputs": [
    {
     "data": {
      "text/plain": [
       "Movie_Title       0\n",
       "Director        714\n",
       "Character       424\n",
       "Actor           424\n",
       "Release_Date    353\n",
       "Genre           367\n",
       "MPAA_Rating     458\n",
       "Revenue         353\n",
       "dtype: int64"
      ]
     },
     "execution_count": 5,
     "metadata": {},
     "output_type": "execute_result"
    }
   ],
   "source": [
    "original_data.isna().sum()\n"
   ]
  },
  {
   "cell_type": "code",
   "execution_count": 6,
   "metadata": {},
   "outputs": [
    {
     "data": {
      "text/html": [
       "<div>\n",
       "<style scoped>\n",
       "    .dataframe tbody tr th:only-of-type {\n",
       "        vertical-align: middle;\n",
       "    }\n",
       "\n",
       "    .dataframe tbody tr th {\n",
       "        vertical-align: top;\n",
       "    }\n",
       "\n",
       "    .dataframe thead th {\n",
       "        text-align: right;\n",
       "    }\n",
       "</style>\n",
       "<table border=\"1\" class=\"dataframe\">\n",
       "  <thead>\n",
       "    <tr style=\"text-align: right;\">\n",
       "      <th></th>\n",
       "      <th>Revenue</th>\n",
       "    </tr>\n",
       "  </thead>\n",
       "  <tbody>\n",
       "    <tr>\n",
       "      <th>count</th>\n",
       "      <td>897</td>\n",
       "    </tr>\n",
       "    <tr>\n",
       "      <th>mean</th>\n",
       "      <td>256,307,552</td>\n",
       "    </tr>\n",
       "    <tr>\n",
       "      <th>std</th>\n",
       "      <td>636,767,911</td>\n",
       "    </tr>\n",
       "    <tr>\n",
       "      <th>min</th>\n",
       "      <td>0</td>\n",
       "    </tr>\n",
       "    <tr>\n",
       "      <th>25%</th>\n",
       "      <td>50,553,142</td>\n",
       "    </tr>\n",
       "    <tr>\n",
       "      <th>50%</th>\n",
       "      <td>119,860,589</td>\n",
       "    </tr>\n",
       "    <tr>\n",
       "      <th>75%</th>\n",
       "      <td>216,807,832</td>\n",
       "    </tr>\n",
       "    <tr>\n",
       "      <th>max</th>\n",
       "      <td>5,228,953,251</td>\n",
       "    </tr>\n",
       "  </tbody>\n",
       "</table>\n",
       "</div>"
      ],
      "text/plain": [
       "            Revenue\n",
       "count           897\n",
       "mean    256,307,552\n",
       "std     636,767,911\n",
       "min               0\n",
       "25%      50,553,142\n",
       "50%     119,860,589\n",
       "75%     216,807,832\n",
       "max   5,228,953,251"
      ]
     },
     "execution_count": 6,
     "metadata": {},
     "output_type": "execute_result"
    }
   ],
   "source": [
    "original_data.describe()\n"
   ]
  },
  {
   "cell_type": "code",
   "execution_count": 7,
   "metadata": {},
   "outputs": [
    {
     "name": "stdout",
     "output_type": "stream",
     "text": [
      "['Musical' nan 'Drama' 'Adventure' 'Comedy' 'Romantic Comedy' 'Action'\n",
      " 'Horror' 'Thriller/Suspense' 'Documentary' 'Black Comedy' 'Western'\n",
      " 'Concert/Performance']\n",
      "\t---------------------------------------------\n",
      "['G' nan 'PG' 'R' 'PG-13' 'Not Rated']\n",
      "\t---------------------------------------------\n",
      "['David Hand' 'full credits' 'Ben Sharpsteen' 'Jack Kinney'\n",
      " 'Norman Ferguson' 'Clyde Geronimi' 'Wilfred Jackson' 'Hamilton Luske'\n",
      " 'Wolfgang Reitherman' 'Art Stevens' 'Ted Berman' 'Ron Clements'\n",
      " 'Mike Gabriel' 'Gary Trousdale' 'Barry Cook' 'Chris Buck' 'Ralph Zondag'\n",
      " 'Mark Dindal' 'Chris Sanders' 'Robert Walker' 'Will Finn'\n",
      " 'Stephen J. Anderson' 'Nathan Greno' 'Rich Moore' 'Byron Howard' nan]\n",
      "\t---------------------------------------------\n"
     ]
    }
   ],
   "source": [
    "print(original_data.Genre.unique(), end=ENDDEL)\n",
    "print(original_data.MPAA_Rating.unique(), end=ENDDEL)\n",
    "print(original_data.Director.unique(), end=ENDDEL)\n"
   ]
  },
  {
   "cell_type": "code",
   "execution_count": 8,
   "metadata": {},
   "outputs": [
    {
     "data": {
      "text/plain": [
       "count                              897\n",
       "mean     2003-01-01 07:55:11.036789376\n",
       "min                1970-04-24 00:00:00\n",
       "25%                1992-11-11 00:00:00\n",
       "50%                2000-11-22 00:00:00\n",
       "75%                2009-11-25 00:00:00\n",
       "max                2068-02-08 00:00:00\n",
       "Name: Release_Date, dtype: object"
      ]
     },
     "execution_count": 8,
     "metadata": {},
     "output_type": "execute_result"
    }
   ],
   "source": [
    "# Some dates are incorrectly parsed\n",
    "original_data.Release_Date.describe(datetime_is_numeric=True)\n"
   ]
  },
  {
   "cell_type": "code",
   "execution_count": 9,
   "metadata": {},
   "outputs": [
    {
     "data": {
      "text/plain": [
       "4.054733724836276e+17"
      ]
     },
     "execution_count": 9,
     "metadata": {},
     "output_type": "execute_result"
    },
    {
     "data": {
      "image/png": "[encoded data removed]",
      "text/plain": [
       "<Figure size 432x288 with 2 Axes>"
      ]
     },
     "metadata": {
      "needs_background": "dark"
     },
     "output_type": "display_data"
    }
   ],
   "source": [
    "_, ax = plt.subplots(1, 2)\n",
    "sb.stripplot(x=original_data.Revenue, ax=ax[0])\n",
    "sb.histplot(x=original_data.Revenue, ax=ax[1])\n",
    "# HUGE variance!\n",
    "original_data.Revenue.var()\n"
   ]
  },
  {
   "cell_type": "markdown",
   "metadata": {},
   "source": [
    "### Data Cleaning"
   ]
  },
  {
   "cell_type": "code",
   "execution_count": 10,
   "metadata": {},
   "outputs": [],
   "source": [
    "original_data.dropna(subset=[\"Revenue\"], inplace=True)\n",
    "original_data.MPAA_Rating.fillna(\"Not Rated\", inplace=True)\n",
    "original_data.Director.fillna(\"Other\", inplace=True)\n",
    "original_data.Genre.fillna(\"Other\", inplace=True)\n"
   ]
  },
  {
   "cell_type": "code",
   "execution_count": 11,
   "metadata": {},
   "outputs": [
    {
     "data": {
      "text/plain": [
       "Movie_Title       0\n",
       "Director          0\n",
       "Character       424\n",
       "Actor           424\n",
       "Release_Date      0\n",
       "Genre             0\n",
       "MPAA_Rating       0\n",
       "Revenue           0\n",
       "dtype: int64"
      ]
     },
     "execution_count": 11,
     "metadata": {},
     "output_type": "execute_result"
    }
   ],
   "source": [
    "original_data.isna().sum()\n",
    "# original_data[original_data.Character.isna()]\n",
    "# original_data[original_data.Actor.isna()]\n"
   ]
  },
  {
   "cell_type": "code",
   "execution_count": 12,
   "metadata": {},
   "outputs": [
    {
     "data": {
      "text/plain": [
       "count                              897\n",
       "mean     1995-11-13 07:26:17.257525120\n",
       "min                1937-12-21 00:00:00\n",
       "25%                1990-11-16 00:00:00\n",
       "50%                1998-06-19 00:00:00\n",
       "75%                2007-03-30 00:00:00\n",
       "max                2016-12-16 00:00:00\n",
       "Name: Release_Date, dtype: object"
      ]
     },
     "execution_count": 12,
     "metadata": {},
     "output_type": "execute_result"
    }
   ],
   "source": [
    "# Fix incorrect year parsing\n",
    "original_data.Release_Date = original_data.Release_Date.apply(\n",
    "    lambda x: x.replace(year=x.year - 100 if x.year > dt.today().year else x.year)\n",
    ")\n",
    "original_data.Release_Date.describe(datetime_is_numeric=True)\n"
   ]
  },
  {
   "cell_type": "markdown",
   "metadata": {},
   "source": [
    "#### Remove outliters"
   ]
  },
  {
   "cell_type": "code",
   "execution_count": 13,
   "metadata": {},
   "outputs": [
    {
     "data": {
      "text/plain": [
       "<AxesSubplot: xlabel='Revenue', ylabel='Count'>"
      ]
     },
     "execution_count": 13,
     "metadata": {},
     "output_type": "execute_result"
    },
    {
     "data": {
      "image/png": "[encoded data removed]",
      "text/plain": [
       "<Figure size 432x288 with 2 Axes>"
      ]
     },
     "metadata": {
      "needs_background": "dark"
     },
     "output_type": "display_data"
    }
   ],
   "source": [
    "original_data.describe()\n",
    "_, ax = plt.subplots(1, 2)\n",
    "sb.stripplot(x=original_data.Revenue, ax=ax[0])\n",
    "sb.histplot(x=original_data.Revenue, ax=ax[1])\n"
   ]
  },
  {
   "cell_type": "code",
   "execution_count": 14,
   "metadata": {},
   "outputs": [
    {
     "data": {
      "text/plain": [
       "<AxesSubplot: xlabel='Revenue', ylabel='Count'>"
      ]
     },
     "execution_count": 14,
     "metadata": {},
     "output_type": "execute_result"
    },
    {
     "data": {
      "image/png": "[encoded data removed]",
      "text/plain": [
       "<Figure size 432x288 with 2 Axes>"
      ]
     },
     "metadata": {
      "needs_background": "dark"
     },
     "output_type": "display_data"
    }
   ],
   "source": [
    "# Remove outliters\n",
    "original_data = original_data[original_data.Revenue < original_data.Revenue.quantile(0.9)]\n",
    "original_data.describe()\n",
    "\n",
    "_, ax = plt.subplots(1, 2)\n",
    "sb.stripplot(x=original_data.Revenue, ax=ax[0])\n",
    "sb.histplot(x=original_data.Revenue, ax=ax[1])\n"
   ]
  },
  {
   "cell_type": "markdown",
   "metadata": {},
   "source": [
    "### Feature Engineering"
   ]
  },
  {
   "cell_type": "code",
   "execution_count": 15,
   "metadata": {},
   "outputs": [],
   "source": [
    "original_data = original_data.sample(frac=1).reset_index(drop=True)\n"
   ]
  },
  {
   "cell_type": "code",
   "execution_count": 16,
   "metadata": {},
   "outputs": [],
   "source": [
    "release_day = original_data.Release_Date.dt.day\n",
    "release_month = original_data.Release_Date.dt.month\n",
    "release_year = original_data.Release_Date.dt.year\n",
    "\n",
    "movie_age = dt.today().year - release_year\n"
   ]
  },
  {
   "cell_type": "markdown",
   "metadata": {},
   "source": [
    "#### Correlations"
   ]
  },
  {
   "cell_type": "code",
   "execution_count": 17,
   "metadata": {},
   "outputs": [
    {
     "name": "stdout",
     "output_type": "stream",
     "text": [
      "movie_age correlation with revenue: -0.11051800516458292\n",
      "\t---------------------------------------------\n",
      "release_day correlation with revenue: -0.1277397652908295\n",
      "\t---------------------------------------------\n",
      "release_month correlation with revenue: -0.06450055108089721\n",
      "\t---------------------------------------------\n",
      "release_year correlation with revenue: 0.11051800516458299\n",
      "\t---------------------------------------------\n"
     ]
    }
   ],
   "source": [
    "print(\"movie_age correlation with revenue:\", movie_age.corr(original_data.Revenue), end=ENDDEL)\n",
    "print(\"release_day correlation with revenue:\", release_day.corr(original_data.Revenue), end=ENDDEL)\n",
    "print(\"release_month correlation with revenue:\", release_month.corr(original_data.Revenue), end=ENDDEL)\n",
    "print(\"release_year correlation with revenue:\", release_year.corr(original_data.Revenue), end=ENDDEL)\n"
   ]
  },
  {
   "cell_type": "code",
   "execution_count": 18,
   "metadata": {},
   "outputs": [
    {
     "data": {
      "image/png": "[encoded data removed]",
      "text/plain": [
       "<Figure size 432x288 with 1 Axes>"
      ]
     },
     "metadata": {
      "needs_background": "dark"
     },
     "output_type": "display_data"
    }
   ],
   "source": [
    "age_corr = dict()\n",
    "for i in range(movie_age.min(), movie_age.max() + 5, 5):\n",
    "    age_corr[i] = (movie_age >= i).corr(original_data.Revenue)\n",
    "\n",
    "sb.barplot(x=list(age_corr.keys()), y=list(age_corr.values())).set(xlabel=\"Movie Age\", ylabel=\"Revenue\")\n",
    "del age_corr\n"
   ]
  },
  {
   "cell_type": "markdown",
   "metadata": {},
   "source": [
    "### Visualization"
   ]
  },
  {
   "cell_type": "code",
   "execution_count": 19,
   "metadata": {},
   "outputs": [
    {
     "data": {
      "text/plain": [
       "(436, 8)"
      ]
     },
     "execution_count": 19,
     "metadata": {},
     "output_type": "execute_result"
    }
   ],
   "source": [
    "# Drop duplicate movies FOR VISUALIZATION\n",
    "unique_records = original_data.drop_duplicates(subset=[\"Movie_Title\"])\n",
    "unique_records.shape"
   ]
  },
  {
   "cell_type": "markdown",
   "metadata": {},
   "source": [
    "#### [Genre, Director, MPAA_Rating] Frequencies"
   ]
  },
  {
   "cell_type": "code",
   "execution_count": 20,
   "metadata": {},
   "outputs": [
    {
     "data": {
      "text/plain": [
       "<AxesSubplot: title={'center': 'MPAA_Rating'}>"
      ]
     },
     "execution_count": 20,
     "metadata": {},
     "output_type": "execute_result"
    },
    {
     "data": {
      "image/png": "[encoded data removed]",
      "text/plain": [
       "<Figure size 432x288 with 3 Axes>"
      ]
     },
     "metadata": {
      "needs_background": "dark"
     },
     "output_type": "display_data"
    }
   ],
   "source": [
    "_, ax = plt.subplots(1, 3)\n",
    "unique_records.Genre.value_counts().plot(ax=ax[0], kind=\"bar\", title=\"Genre\")\n",
    "unique_records.Director.value_counts().plot(ax=ax[1], kind=\"bar\", title=\"Director\")\n",
    "unique_records.MPAA_Rating.value_counts().plot(ax=ax[2], kind=\"bar\", title=\"MPAA_Rating\")\n"
   ]
  },
  {
   "cell_type": "markdown",
   "metadata": {},
   "source": [
    "#### [Genre, Director, MPAA_Rating] VS Revenue"
   ]
  },
  {
   "cell_type": "code",
   "execution_count": 21,
   "metadata": {},
   "outputs": [
    {
     "data": {
      "text/plain": [
       "<AxesSubplot: title={'center': 'MPAA_Rating'}, xlabel='MPAA_Rating'>"
      ]
     },
     "execution_count": 21,
     "metadata": {},
     "output_type": "execute_result"
    },
    {
     "data": {
      "image/png": "[encoded data removed]",
      "text/plain": [
       "<Figure size 432x288 with 3 Axes>"
      ]
     },
     "metadata": {
      "needs_background": "dark"
     },
     "output_type": "display_data"
    }
   ],
   "source": [
    "_, ax = plt.subplots(1, 3)\n",
    "\n",
    "# dont consider 'other' genres\n",
    "pd.pivot_table(\n",
    "    unique_records[unique_records.Genre != \"Other\"],\n",
    "    index=\"Genre\",\n",
    "    values=\"Revenue\",\n",
    "    aggfunc=\"sum\",\n",
    ").plot(kind=\"bar\", ax=ax[0], title=\"Genres\")\n",
    "\n",
    "# dont consider 'other' directors\n",
    "pd.pivot_table(\n",
    "    unique_records[unique_records.Director != \"Other\"],\n",
    "    index=\"Director\",\n",
    "    values=\"Revenue\",\n",
    "    aggfunc=\"sum\",\n",
    ").plot(kind=\"bar\", ax=ax[1], title=\"Directors\")\n",
    "\n",
    "# dont consider 'Not Rated' movies\n",
    "pd.pivot_table(\n",
    "    unique_records[unique_records.Director != \"Not Rated\"],\n",
    "    index=\"MPAA_Rating\",\n",
    "    values=\"Revenue\",\n",
    "    aggfunc=\"sum\",\n",
    ").plot(kind=\"bar\", ax=ax[2], title=\"MPAA_Rating\")\n"
   ]
  },
  {
   "cell_type": "markdown",
   "metadata": {},
   "source": [
    "#### Movie Age Distribution"
   ]
  },
  {
   "cell_type": "code",
   "execution_count": 22,
   "metadata": {},
   "outputs": [
    {
     "data": {
      "text/plain": [
       "<AxesSubplot: xlabel='Release_Date', ylabel='Count'>"
      ]
     },
     "execution_count": 22,
     "metadata": {},
     "output_type": "execute_result"
    },
    {
     "data": {
      "image/png": "[encoded data removed]",
      "text/plain": [
       "<Figure size 432x288 with 1 Axes>"
      ]
     },
     "metadata": {
      "needs_background": "dark"
     },
     "output_type": "display_data"
    }
   ],
   "source": [
    "sb.histplot(movie_age)\n",
    "sb.histplot(dt.today().year - unique_records.Release_Date.dt.year)\n"
   ]
  },
  {
   "cell_type": "markdown",
   "metadata": {},
   "source": [
    "#### Movie Age VS Revenue"
   ]
  },
  {
   "cell_type": "code",
   "execution_count": 23,
   "metadata": {},
   "outputs": [
    {
     "data": {
      "text/plain": [
       "<AxesSubplot: xlabel='Release_Date', ylabel='Revenue'>"
      ]
     },
     "execution_count": 23,
     "metadata": {},
     "output_type": "execute_result"
    },
    {
     "data": {
      "image/png": "[encoded data removed]",
      "text/plain": [
       "<Figure size 432x288 with 1 Axes>"
      ]
     },
     "metadata": {
      "needs_background": "dark"
     },
     "output_type": "display_data"
    }
   ],
   "source": [
    "sb.barplot(x=movie_age, y=original_data.Revenue)\n"
   ]
  },
  {
   "cell_type": "markdown",
   "metadata": {},
   "source": [
    "#### Cleanup"
   ]
  },
  {
   "cell_type": "code",
   "execution_count": 24,
   "metadata": {},
   "outputs": [],
   "source": [
    "del unique_records, movie_age, release_day, release_year, release_month, ax\n"
   ]
  },
  {
   "cell_type": "markdown",
   "metadata": {},
   "source": [
    "### Data Preprocessing"
   ]
  },
  {
   "cell_type": "code",
   "execution_count": 25,
   "metadata": {},
   "outputs": [
    {
     "data": {
      "text/html": [
       "<div>\n",
       "<style scoped>\n",
       "    .dataframe tbody tr th:only-of-type {\n",
       "        vertical-align: middle;\n",
       "    }\n",
       "\n",
       "    .dataframe tbody tr th {\n",
       "        vertical-align: top;\n",
       "    }\n",
       "\n",
       "    .dataframe thead th {\n",
       "        text-align: right;\n",
       "    }\n",
       "</style>\n",
       "<table border=\"1\" class=\"dataframe\">\n",
       "  <thead>\n",
       "    <tr style=\"text-align: right;\">\n",
       "      <th></th>\n",
       "      <th>Movie_Title</th>\n",
       "      <th>Director</th>\n",
       "      <th>Character</th>\n",
       "      <th>Actor</th>\n",
       "      <th>Release_Date</th>\n",
       "      <th>Genre</th>\n",
       "      <th>MPAA_Rating</th>\n",
       "      <th>Revenue</th>\n",
       "    </tr>\n",
       "  </thead>\n",
       "  <tbody>\n",
       "    <tr>\n",
       "      <th>0</th>\n",
       "      <td>The Little Mermaid</td>\n",
       "      <td>Ron Clements</td>\n",
       "      <td>Andrina</td>\n",
       "      <td>Tara Strong</td>\n",
       "      <td>1989-11-15</td>\n",
       "      <td>Adventure</td>\n",
       "      <td>G</td>\n",
       "      <td>223,726,012</td>\n",
       "    </tr>\n",
       "    <tr>\n",
       "      <th>1</th>\n",
       "      <td>Dinosaur</td>\n",
       "      <td>Ralph Zondag</td>\n",
       "      <td>Plio</td>\n",
       "      <td>Alfre Woodard</td>\n",
       "      <td>2000-05-19</td>\n",
       "      <td>Adventure</td>\n",
       "      <td>PG</td>\n",
       "      <td>215,438,985</td>\n",
       "    </tr>\n",
       "    <tr>\n",
       "      <th>2</th>\n",
       "      <td>DuckTales: The Movie - Treasure of th…</td>\n",
       "      <td>Other</td>\n",
       "      <td>NaN</td>\n",
       "      <td>NaN</td>\n",
       "      <td>1990-08-03</td>\n",
       "      <td>Adventure</td>\n",
       "      <td>G</td>\n",
       "      <td>36,107,823</td>\n",
       "    </tr>\n",
       "    <tr>\n",
       "      <th>3</th>\n",
       "      <td>Valiant</td>\n",
       "      <td>Other</td>\n",
       "      <td>NaN</td>\n",
       "      <td>NaN</td>\n",
       "      <td>2005-08-19</td>\n",
       "      <td>Adventure</td>\n",
       "      <td>G</td>\n",
       "      <td>25,616,292</td>\n",
       "    </tr>\n",
       "    <tr>\n",
       "      <th>4</th>\n",
       "      <td>Oscar</td>\n",
       "      <td>Other</td>\n",
       "      <td>NaN</td>\n",
       "      <td>NaN</td>\n",
       "      <td>1991-04-26</td>\n",
       "      <td>Comedy</td>\n",
       "      <td>PG</td>\n",
       "      <td>47,181,395</td>\n",
       "    </tr>\n",
       "  </tbody>\n",
       "</table>\n",
       "</div>"
      ],
      "text/plain": [
       "                              Movie_Title      Director Character  \\\n",
       "0                      The Little Mermaid  Ron Clements   Andrina   \n",
       "1                                Dinosaur  Ralph Zondag      Plio   \n",
       "2  DuckTales: The Movie - Treasure of th…         Other       NaN   \n",
       "3                                 Valiant         Other       NaN   \n",
       "4                                   Oscar         Other       NaN   \n",
       "\n",
       "           Actor Release_Date      Genre MPAA_Rating     Revenue  \n",
       "0    Tara Strong   1989-11-15  Adventure           G 223,726,012  \n",
       "1  Alfre Woodard   2000-05-19  Adventure          PG 215,438,985  \n",
       "2            NaN   1990-08-03  Adventure           G  36,107,823  \n",
       "3            NaN   2005-08-19  Adventure           G  25,616,292  \n",
       "4            NaN   1991-04-26     Comedy          PG  47,181,395  "
      ]
     },
     "execution_count": 25,
     "metadata": {},
     "output_type": "execute_result"
    }
   ],
   "source": [
    "original_data.head()\n"
   ]
  },
  {
   "cell_type": "code",
   "execution_count": 26,
   "metadata": {},
   "outputs": [
    {
     "data": {
      "text/html": [
       "<div>\n",
       "<style scoped>\n",
       "    .dataframe tbody tr th:only-of-type {\n",
       "        vertical-align: middle;\n",
       "    }\n",
       "\n",
       "    .dataframe tbody tr th {\n",
       "        vertical-align: top;\n",
       "    }\n",
       "\n",
       "    .dataframe thead th {\n",
       "        text-align: right;\n",
       "    }\n",
       "</style>\n",
       "<table border=\"1\" class=\"dataframe\">\n",
       "  <thead>\n",
       "    <tr style=\"text-align: right;\">\n",
       "      <th></th>\n",
       "      <th>Director</th>\n",
       "      <th>MPAA_Rating</th>\n",
       "      <th>Genre</th>\n",
       "    </tr>\n",
       "  </thead>\n",
       "  <tbody>\n",
       "    <tr>\n",
       "      <th>count</th>\n",
       "      <td>791</td>\n",
       "      <td>791</td>\n",
       "      <td>791</td>\n",
       "    </tr>\n",
       "    <tr>\n",
       "      <th>unique</th>\n",
       "      <td>20</td>\n",
       "      <td>5</td>\n",
       "      <td>13</td>\n",
       "    </tr>\n",
       "    <tr>\n",
       "      <th>top</th>\n",
       "      <td>Other</td>\n",
       "      <td>PG</td>\n",
       "      <td>Adventure</td>\n",
       "    </tr>\n",
       "    <tr>\n",
       "      <th>freq</th>\n",
       "      <td>423</td>\n",
       "      <td>294</td>\n",
       "      <td>377</td>\n",
       "    </tr>\n",
       "  </tbody>\n",
       "</table>\n",
       "</div>"
      ],
      "text/plain": [
       "       Director MPAA_Rating      Genre\n",
       "count       791         791        791\n",
       "unique       20           5         13\n",
       "top       Other          PG  Adventure\n",
       "freq        423         294        377"
      ]
     },
     "execution_count": 26,
     "metadata": {},
     "output_type": "execute_result"
    }
   ],
   "source": [
    "x_train = original_data[[\"Director\", \"MPAA_Rating\", \"Genre\"]]\n",
    "y_train = original_data.Revenue\n",
    "\n",
    "x_train.describe()\n"
   ]
  },
  {
   "cell_type": "markdown",
   "metadata": {},
   "source": [
    "### Basic Models"
   ]
  },
  {
   "cell_type": "code",
   "execution_count": 27,
   "metadata": {},
   "outputs": [],
   "source": [
    "ohe_column_transformer = make_column_transformer(\n",
    "    (OneHotEncoder(), [\"Genre\", \"Director\", \"MPAA_Rating\"]),\n",
    "    remainder=\"drop\",\n",
    "    n_jobs=-1,\n",
    "    sparse_threshold=0,\n",
    "    verbose_feature_names_out=False,\n",
    ")\n"
   ]
  },
  {
   "cell_type": "code",
   "execution_count": null,
   "metadata": {},
   "outputs": [],
   "source": [
    "logistic_pipeline = make_pipeline(ohe_column_transformer, LogisticRegression(solver=\"lbfgs\", max_iter=500))\n",
    "logistic_pipeline.fit(x_train, y_train)"
   ]
  },
  {
   "cell_type": "code",
   "execution_count": null,
   "metadata": {},
   "outputs": [],
   "source": [
    "linear_pipeline = make_pipeline(ohe_column_transformer, LinearRegression())\n",
    "linear_pipeline.fit(x_train, y_train)\n"
   ]
  },
  {
   "cell_type": "code",
   "execution_count": 30,
   "metadata": {},
   "outputs": [],
   "source": [
    "# ridge_pipeline = make_pipeline(ohe_column_transformer, ridge_regression(alpha=0.1, max_iter=1000))\n",
    "# ridge_pipeline.fit(x_train, y_train)\n"
   ]
  },
  {
   "cell_type": "markdown",
   "metadata": {},
   "source": [
    "### Ensemble Models"
   ]
  },
  {
   "cell_type": "markdown",
   "metadata": {},
   "source": [
    "### Grid Search"
   ]
  },
  {
   "cell_type": "markdown",
   "metadata": {},
   "source": [
    "### Models Testing"
   ]
  },
  {
   "cell_type": "markdown",
   "metadata": {},
   "source": [
    "#### Loading test data"
   ]
  },
  {
   "cell_type": "code",
   "execution_count": 31,
   "metadata": {},
   "outputs": [],
   "source": [
    "test_data = load_data(False)\n",
    "test_data.Release_Date = original_data.Release_Date.apply(\n",
    "    lambda x: x.replace(year=x.year - 100 if x.year > dt.today().year else x.year)\n",
    ")\n"
   ]
  },
  {
   "cell_type": "markdown",
   "metadata": {},
   "source": [
    "#### Preprocessing test data"
   ]
  },
  {
   "cell_type": "code",
   "execution_count": 32,
   "metadata": {},
   "outputs": [],
   "source": [
    "test_data.MPAA_Rating.fillna(\"Not Rated\", inplace=True)\n",
    "test_data.Director.fillna(\"Other\", inplace=True)\n"
   ]
  },
  {
   "cell_type": "code",
   "execution_count": 33,
   "metadata": {},
   "outputs": [],
   "source": [
    "# x_test = test_data[[\"Director\", \"MPAA_Rating\", \"Genre\"]]\n",
    "\n",
    "y_test = test_data.Revenue\n"
   ]
  },
  {
   "cell_type": "markdown",
   "metadata": {},
   "source": [
    "#### Evaluation"
   ]
  },
  {
   "cell_type": "markdown",
   "metadata": {},
   "source": [
    "##### Logistic Regression"
   ]
  },
  {
   "cell_type": "code",
   "execution_count": 34,
   "metadata": {},
   "outputs": [
    {
     "data": {
      "text/plain": [
       "1.1896196497853728e+16"
      ]
     },
     "execution_count": 34,
     "metadata": {},
     "output_type": "execute_result"
    }
   ],
   "source": [
    "y_predict = logistic_pipeline.predict(test_data)\n",
    "metrics.mean_squared_error(y_test, y_predict)\n"
   ]
  },
  {
   "cell_type": "code",
   "execution_count": 35,
   "metadata": {},
   "outputs": [
    {
     "name": "stdout",
     "output_type": "stream",
     "text": [
      "159743914.0 258728898 -98984984.0\n",
      "159743914.0 258728898 -98984984.0\n",
      "159743914.0 258728898 -98984984.0\n",
      "159743914.0 258728898 -98984984.0\n",
      "159743914.0 258728898 -98984984.0\n",
      "159743914.0 258728898 -98984984.0\n",
      "159743914.0 258728898 -98984984.0\n",
      "159743914.0 258728898 -98984984.0\n",
      "68479579.0 24333094 44146485.0\n",
      "201151353.0 4609153 196542200.0\n"
     ]
    }
   ],
   "source": [
    "for i, j in zip(y_predict, y_test):\n",
    "    print(i, j, i - j)\n"
   ]
  },
  {
   "cell_type": "markdown",
   "metadata": {},
   "source": [
    "##### Linear Regression"
   ]
  },
  {
   "cell_type": "code",
   "execution_count": 36,
   "metadata": {},
   "outputs": [
    {
     "data": {
      "text/plain": [
       "1.0220378730483988e+16"
      ]
     },
     "execution_count": 36,
     "metadata": {},
     "output_type": "execute_result"
    }
   ],
   "source": [
    "y_predict = linear_pipeline.predict(test_data)\n",
    "metrics.mean_squared_error(y_test, y_predict)\n"
   ]
  },
  {
   "cell_type": "code",
   "execution_count": 37,
   "metadata": {},
   "outputs": [
    {
     "name": "stdout",
     "output_type": "stream",
     "text": [
      "147324928.0 258728898 -111403970.0\n",
      "147324928.0 258728898 -111403970.0\n",
      "147324928.0 258728898 -111403970.0\n",
      "147324928.0 258728898 -111403970.0\n",
      "147324928.0 258728898 -111403970.0\n",
      "147324928.0 258728898 -111403970.0\n",
      "147324928.0 258728898 -111403970.0\n",
      "147324928.0 258728898 -111403970.0\n",
      "68157440.0 24333094 43824346.0\n",
      "36175872.0 4609153 31566719.0\n"
     ]
    }
   ],
   "source": [
    "for i, j in zip(y_predict, y_test):\n",
    "    print(i, j, i - j)\n"
   ]
  }
 ],
 "metadata": {
  "kernelspec": {
   "display_name": "Python 3.9.15 64-bit",
   "language": "python",
   "name": "python3"
  },
  "language_info": {
   "codemirror_mode": {
    "name": "ipython",
    "version": 3
   },
   "file_extension": ".py",
   "mimetype": "text/x-python",
   "name": "python",
   "nbconvert_exporter": "python",
   "pygments_lexer": "ipython3",
   "version": "3.9.15"
  },
  "orig_nbformat": 4,
  "vscode": {
   "interpreter": {
    "hash": "a665b5d41d17b532ea9890333293a1b812fa0b73c9c25c950b3cedf1bebd0438"
   }
  }
 },
 "nbformat": 4,
 "nbformat_minor": 2
}
