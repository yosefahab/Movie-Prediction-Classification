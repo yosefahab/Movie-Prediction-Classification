{
 "cells": [
  {
   "cell_type": "markdown",
   "metadata": {},
   "source": [
    "# Movie Revenue Prediction"
   ]
  },
  {
   "cell_type": "markdown",
   "metadata": {},
   "source": [
    "### Imports"
   ]
  },
  {
   "cell_type": "code",
   "execution_count": null,
   "metadata": {},
   "outputs": [],
   "source": [
    "import pandas as pd\n",
    "import numpy as np\n",
    "import seaborn as sb\n",
    "import matplotlib.pyplot as plt\n",
    "\n",
    "from datetime import datetime as dt\n",
    "\n",
    "# preprocessing\n",
    "from sklearn.preprocessing import OneHotEncoder\n",
    "from sklearn.preprocessing import MinMaxScaler\n",
    "\n",
    "# models\n",
    "from sklearn.linear_model import LinearRegression\n",
    "from sklearn.linear_model import Ridge\n",
    "\n",
    "# tuning\n",
    "from sklearn.compose import make_column_transformer\n",
    "from sklearn.feature_selection import RFE\n",
    "from sklearn.model_selection import KFold\n",
    "from sklearn.model_selection import cross_val_score\n",
    "from sklearn.model_selection import GridSearchCV\n",
    "\n",
    "# evaluation\n",
    "from sklearn import metrics\n"
   ]
  },
  {
   "cell_type": "markdown",
   "metadata": {},
   "source": [
    "### Configurations"
   ]
  },
  {
   "cell_type": "code",
   "execution_count": null,
   "metadata": {
    "tags": []
   },
   "outputs": [],
   "source": [
    "plt.rcParams[\"figure.figsize\"] = (20, 6)\n",
    "plt.style.use(\"dark_background\")\n",
    "ENDDEL = \"\\n\\t\" + \"---\" * 15 + \"\\n\"\n",
    "pd.set_option(\"display.float_format\", \"{:,.0f}\".format)\n"
   ]
  },
  {
   "cell_type": "markdown",
   "metadata": {},
   "source": [
    "### Data Loading"
   ]
  },
  {
   "cell_type": "code",
   "execution_count": null,
   "metadata": {},
   "outputs": [],
   "source": [
    "def load_data(train):\n",
    "    directory = \"Training_data/\" if train == True else \"Testing_data/\"\n",
    "    directors = pd.read_csv(directory + \"Prediction_data/movie-director.csv\", header=0, names=[\"Movie_Title\", \"Director\"])\n",
    "    actors = pd.read_csv(\n",
    "        directory + \"Prediction_data/movie-voice-actors.csv\", header=0, names=[\"Character\", \"Actor\", \"Movie_Title\"]\n",
    "    )\n",
    "    revenues = pd.read_csv(\n",
    "        directory + \"Prediction_data/movies-revenue.csv\",\n",
    "        header=0,\n",
    "        names=[\"Movie_Title\", \"Release_Date\", \"Genre\", \"MPAA_Rating\", \"Revenue\"],\n",
    "    )\n",
    "\n",
    "    revenues.Revenue = pd.to_numeric(revenues.Revenue.str.replace(r\"\\D\", \"\", regex=True))\n",
    "    revenues.Release_Date = pd.to_datetime(revenues.Release_Date, format=\"%d-%b-%y\")\n",
    "\n",
    "    # Fix incorrect year parsing\n",
    "    revenues.Release_Date = revenues.Release_Date.apply(\n",
    "        lambda x: x.replace(year=x.year - 100 if x.year > dt.today().year else x.year)\n",
    "    )\n",
    "\n",
    "    return pd.merge(directors, pd.merge(actors, revenues, on=\"Movie_Title\", how=\"outer\"), on=\"Movie_Title\", how=\"outer\")\n",
    "\n",
    "\n",
    "original_data = load_data(True)\n",
    "original_data.head()\n"
   ]
  },
  {
   "cell_type": "markdown",
   "metadata": {},
   "source": [
    "### Data Exploration"
   ]
  },
  {
   "cell_type": "code",
   "execution_count": null,
   "metadata": {},
   "outputs": [],
   "source": [
    "original_data.head()\n"
   ]
  },
  {
   "cell_type": "code",
   "execution_count": null,
   "metadata": {},
   "outputs": [],
   "source": [
    "original_data.isna().sum()\n"
   ]
  },
  {
   "cell_type": "code",
   "execution_count": null,
   "metadata": {},
   "outputs": [],
   "source": [
    "original_data.describe()\n"
   ]
  },
  {
   "cell_type": "code",
   "execution_count": null,
   "metadata": {},
   "outputs": [],
   "source": [
    "print(original_data.Genre.unique(), end=ENDDEL)\n",
    "print(original_data.MPAA_Rating.unique(), end=ENDDEL)\n",
    "print(original_data.Director.unique(), end=ENDDEL)\n"
   ]
  },
  {
   "cell_type": "code",
   "execution_count": null,
   "metadata": {},
   "outputs": [],
   "source": [
    "# Some dates are incorrectly parsed\n",
    "original_data.Release_Date.describe(datetime_is_numeric=True)\n"
   ]
  },
  {
   "cell_type": "code",
   "execution_count": null,
   "metadata": {},
   "outputs": [],
   "source": [
    "_, ax = plt.subplots(1, 2)\n",
    "sb.stripplot(x=original_data.Revenue, ax=ax[0])\n",
    "sb.histplot(x=original_data.Revenue, ax=ax[1])\n",
    "# HUGE variance!\n",
    "original_data.Revenue.var()\n"
   ]
  },
  {
   "cell_type": "markdown",
   "metadata": {},
   "source": [
    "### Data Cleaning"
   ]
  },
  {
   "cell_type": "code",
   "execution_count": null,
   "metadata": {},
   "outputs": [],
   "source": [
    "original_data.dropna(subset=[\"Revenue\"], inplace=True)\n",
    "original_data.MPAA_Rating.fillna(\"Not Rated\", inplace=True)\n",
    "original_data.Director.fillna(\"Other\", inplace=True)\n",
    "original_data.Genre.fillna(\"Other\", inplace=True)\n"
   ]
  },
  {
   "cell_type": "code",
   "execution_count": null,
   "metadata": {},
   "outputs": [],
   "source": [
    "original_data.isna().sum()\n",
    "# original_data[original_data.Character.isna()]\n",
    "# original_data[original_data.Actor.isna()]\n"
   ]
  },
  {
   "cell_type": "code",
   "execution_count": null,
   "metadata": {},
   "outputs": [],
   "source": [
    "# # Fix incorrect year parsing\n",
    "# original_data.Release_Date = original_data.Release_Date.apply(\n",
    "#     lambda x: x.replace(year=x.year - 100 if x.year > dt.today().year else x.year)\n",
    "# )\n",
    "original_data.Release_Date.describe(datetime_is_numeric=True)\n"
   ]
  },
  {
   "cell_type": "markdown",
   "metadata": {},
   "source": [
    "#### Remove outliters"
   ]
  },
  {
   "cell_type": "code",
   "execution_count": null,
   "metadata": {},
   "outputs": [],
   "source": [
    "original_data.describe()\n",
    "_, ax = plt.subplots(1, 2)\n",
    "sb.stripplot(x=original_data.Revenue, ax=ax[0])\n",
    "sb.histplot(x=original_data.Revenue, ax=ax[1])\n"
   ]
  },
  {
   "cell_type": "code",
   "execution_count": null,
   "metadata": {},
   "outputs": [],
   "source": [
    "# Remove outliters\n",
    "original_data = original_data[original_data.Revenue < original_data.Revenue.quantile(0.9)]\n",
    "original_data.describe()\n",
    "\n",
    "_, ax = plt.subplots(1, 2)\n",
    "sb.stripplot(x=original_data.Revenue, ax=ax[0])\n",
    "sb.histplot(x=original_data.Revenue, ax=ax[1])\n"
   ]
  },
  {
   "cell_type": "markdown",
   "metadata": {},
   "source": [
    "### Feature Engineering"
   ]
  },
  {
   "cell_type": "code",
   "execution_count": null,
   "metadata": {},
   "outputs": [],
   "source": [
    "original_data = original_data.sample(frac=1).reset_index(drop=True)\n"
   ]
  },
  {
   "cell_type": "code",
   "execution_count": null,
   "metadata": {},
   "outputs": [],
   "source": [
    "release_day = original_data.Release_Date.dt.day\n",
    "release_month = original_data.Release_Date.dt.month\n",
    "release_year = original_data.Release_Date.dt.year\n",
    "\n",
    "movie_age = dt.today().year - release_year\n"
   ]
  },
  {
   "cell_type": "markdown",
   "metadata": {},
   "source": [
    "#### Correlations"
   ]
  },
  {
   "cell_type": "code",
   "execution_count": null,
   "metadata": {},
   "outputs": [],
   "source": [
    "print(\"movie_age correlation with revenue:\", movie_age.corr(original_data.Revenue), end=ENDDEL)\n",
    "print(\"release_day correlation with revenue:\", release_day.corr(original_data.Revenue), end=ENDDEL)\n",
    "print(\"release_month correlation with revenue:\", release_month.corr(original_data.Revenue), end=ENDDEL)\n",
    "print(\"release_year correlation with revenue:\", release_year.corr(original_data.Revenue), end=ENDDEL)\n"
   ]
  },
  {
   "cell_type": "code",
   "execution_count": null,
   "metadata": {},
   "outputs": [],
   "source": [
    "age_corr = dict()\n",
    "for i in range(movie_age.min(), movie_age.max() + 5, 5):\n",
    "    age_corr[i] = (movie_age >= i).corr(original_data.Revenue)\n",
    "\n",
    "sb.barplot(x=list(age_corr.keys()), y=list(age_corr.values())).set(xlabel=\"Movie Age\", ylabel=\"Revenue\")\n",
    "del age_corr\n"
   ]
  },
  {
   "cell_type": "markdown",
   "metadata": {},
   "source": [
    "### Visualization"
   ]
  },
  {
   "cell_type": "code",
   "execution_count": null,
   "metadata": {},
   "outputs": [],
   "source": [
    "# Drop duplicate movies FOR VISUALIZATION\n",
    "unique_records = original_data.drop_duplicates(subset=[\"Movie_Title\"])\n",
    "unique_records.shape\n"
   ]
  },
  {
   "cell_type": "markdown",
   "metadata": {},
   "source": [
    "#### [Genre, Director, MPAA_Rating] Frequencies"
   ]
  },
  {
   "cell_type": "code",
   "execution_count": null,
   "metadata": {},
   "outputs": [],
   "source": [
    "_, ax = plt.subplots(1, 3)\n",
    "unique_records.Genre.value_counts().plot(ax=ax[0], kind=\"bar\", title=\"Genre\")\n",
    "unique_records.Director.value_counts().plot(ax=ax[1], kind=\"bar\", title=\"Director\")\n",
    "unique_records.MPAA_Rating.value_counts().plot(ax=ax[2], kind=\"bar\", title=\"MPAA_Rating\")\n"
   ]
  },
  {
   "cell_type": "markdown",
   "metadata": {},
   "source": [
    "#### [Genre, Director, MPAA_Rating] VS Revenue"
   ]
  },
  {
   "cell_type": "code",
   "execution_count": null,
   "metadata": {},
   "outputs": [],
   "source": [
    "_, ax = plt.subplots(1, 3)\n",
    "sb.scatterplot(\n",
    "    ax=ax[0],\n",
    "    x=unique_records.MPAA_Rating[unique_records.Director != \"Not Rated\"],\n",
    "    y=unique_records.Revenue[unique_records.Director != \"Not Rated\"],\n",
    ")\n",
    "\n",
    "sb.scatterplot(\n",
    "    ax=ax[1],\n",
    "    x=unique_records.Genre[unique_records.Director != \"Other\"],\n",
    "    y=unique_records.Revenue[unique_records.Director != \"Not Rated\"],\n",
    ")\n",
    "\n",
    "sb.scatterplot(\n",
    "    ax=ax[2],\n",
    "    x=unique_records.Director[unique_records.Director != \"Other\"],\n",
    "    y=unique_records.Revenue[unique_records.Director != \"Not Rated\"],\n",
    ")\n"
   ]
  },
  {
   "cell_type": "markdown",
   "metadata": {},
   "source": [
    "#### Total contribution of each feature to revenue"
   ]
  },
  {
   "cell_type": "code",
   "execution_count": null,
   "metadata": {},
   "outputs": [],
   "source": [
    "_, ax = plt.subplots(1, 3)\n",
    "\n",
    "# dont consider 'other' genres\n",
    "pd.pivot_table(\n",
    "    unique_records[unique_records.Genre != \"Other\"],\n",
    "    index=\"Genre\",\n",
    "    values=\"Revenue\",\n",
    "    aggfunc=\"sum\",\n",
    ").plot(kind=\"bar\", ax=ax[0], title=\"Genres\")\n",
    "\n",
    "# dont consider 'other' directors\n",
    "pd.pivot_table(\n",
    "    unique_records[unique_records.Director != \"Other\"],\n",
    "    index=\"Director\",\n",
    "    values=\"Revenue\",\n",
    "    aggfunc=\"sum\",\n",
    ").plot(kind=\"bar\", ax=ax[1], title=\"Directors\")\n",
    "\n",
    "# dont consider 'Not Rated' movies\n",
    "pd.pivot_table(\n",
    "    unique_records[unique_records.Director != \"Not Rated\"],\n",
    "    index=\"MPAA_Rating\",\n",
    "    values=\"Revenue\",\n",
    "    aggfunc=\"sum\",\n",
    ").plot(kind=\"bar\", ax=ax[2], title=\"MPAA_Rating\")\n"
   ]
  },
  {
   "cell_type": "markdown",
   "metadata": {},
   "source": [
    "#### Release Year VS Revenue"
   ]
  },
  {
   "cell_type": "code",
   "execution_count": null,
   "metadata": {},
   "outputs": [],
   "source": [
    "sb.scatterplot(x=unique_records.Release_Date.dt.year, y=unique_records.Revenue)\n"
   ]
  },
  {
   "cell_type": "markdown",
   "metadata": {},
   "source": [
    "#### Movie Age Distribution"
   ]
  },
  {
   "cell_type": "code",
   "execution_count": null,
   "metadata": {},
   "outputs": [],
   "source": [
    "sb.histplot(movie_age)\n",
    "sb.histplot(dt.today().year - unique_records.Release_Date.dt.year)\n"
   ]
  },
  {
   "cell_type": "markdown",
   "metadata": {},
   "source": [
    "#### Movie Age VS Revenue"
   ]
  },
  {
   "cell_type": "code",
   "execution_count": null,
   "metadata": {},
   "outputs": [],
   "source": [
    "sb.barplot(x=movie_age, y=original_data.Revenue)\n"
   ]
  },
  {
   "cell_type": "markdown",
   "metadata": {},
   "source": [
    "#### Cleanup"
   ]
  },
  {
   "cell_type": "code",
   "execution_count": null,
   "metadata": {},
   "outputs": [],
   "source": [
    "del unique_records\n"
   ]
  },
  {
   "cell_type": "markdown",
   "metadata": {},
   "source": [
    "### Data Preprocessing"
   ]
  },
  {
   "cell_type": "markdown",
   "metadata": {},
   "source": [
    "#### Preprocess Train Data"
   ]
  },
  {
   "cell_type": "code",
   "execution_count": null,
   "metadata": {},
   "outputs": [],
   "source": [
    "original_data.head()\n"
   ]
  },
  {
   "cell_type": "code",
   "execution_count": null,
   "metadata": {},
   "outputs": [],
   "source": [
    "original_data = pd.concat(\n",
    "    [\n",
    "        original_data,\n",
    "        pd.DataFrame(\n",
    "            {\n",
    "                \"Release_Day\": release_day,\n",
    "                \"Release_Month\": release_month,\n",
    "                \"Release_Year\": release_year,\n",
    "                \"Movie_Age\": movie_age,\n",
    "            }\n",
    "        ),\n",
    "    ],\n",
    "    axis=1,\n",
    ")\n"
   ]
  },
  {
   "cell_type": "code",
   "execution_count": null,
   "metadata": {},
   "outputs": [],
   "source": [
    "feature_cols = [\"Genre\", \"Director\", \"MPAA_Rating\", \"Release_Day\", \"Release_Month\", \"Release_Year\", \"Movie_Age\"]\n"
   ]
  },
  {
   "cell_type": "code",
   "execution_count": null,
   "metadata": {},
   "outputs": [],
   "source": [
    "x_train = original_data[feature_cols]\n",
    "y_train = original_data.Revenue\n",
    "\n",
    "x_train.describe()\n"
   ]
  },
  {
   "cell_type": "code",
   "execution_count": null,
   "metadata": {},
   "outputs": [],
   "source": [
    "x_train.head()\n"
   ]
  },
  {
   "cell_type": "code",
   "execution_count": null,
   "metadata": {},
   "outputs": [],
   "source": [
    "x_train = x_train.sample(frac=1, random_state=7).reset_index(drop=True)\n"
   ]
  },
  {
   "cell_type": "markdown",
   "metadata": {},
   "source": [
    "#### Preprocess Test Data"
   ]
  },
  {
   "cell_type": "code",
   "execution_count": null,
   "metadata": {},
   "outputs": [],
   "source": [
    "test_data = load_data(False)\n"
   ]
  },
  {
   "cell_type": "code",
   "execution_count": null,
   "metadata": {},
   "outputs": [],
   "source": [
    "test_data.isna().sum()\n"
   ]
  },
  {
   "cell_type": "code",
   "execution_count": null,
   "metadata": {},
   "outputs": [],
   "source": [
    "release_day = test_data.Release_Date.dt.day\n",
    "release_month = test_data.Release_Date.dt.month\n",
    "release_year = test_data.Release_Date.dt.year\n",
    "movie_age = dt.today().year - release_year\n",
    "\n",
    "test_data.MPAA_Rating.fillna(\"Not Rated\", inplace=True)\n",
    "test_data.Director.fillna(\"Other\", inplace=True)\n",
    "\n",
    "test_data = pd.concat(\n",
    "    [\n",
    "        test_data,\n",
    "        pd.DataFrame(\n",
    "            {\n",
    "                \"Release_Day\": release_day,\n",
    "                \"Release_Month\": release_month,\n",
    "                \"Release_Year\": release_year,\n",
    "                \"Movie_Age\": movie_age,\n",
    "            }\n",
    "        ),\n",
    "    ],\n",
    "    axis=1,\n",
    ")\n",
    "\n",
    "x_test = test_data[x_train.columns]\n",
    "y_test = test_data.Revenue\n"
   ]
  },
  {
   "cell_type": "code",
   "execution_count": null,
   "metadata": {},
   "outputs": [],
   "source": [
    "y_train = y_train.apply(lambda x: np.log10(x) if x != 0 else x)\n",
    "y_test = y_test.apply(lambda x: np.log10(x) if x != 0 else x)\n"
   ]
  },
  {
   "cell_type": "markdown",
   "metadata": {},
   "source": [
    "#### Column Transformer"
   ]
  },
  {
   "cell_type": "code",
   "execution_count": null,
   "metadata": {},
   "outputs": [],
   "source": [
    "ohe_column_transformer = make_column_transformer(\n",
    "    (OneHotEncoder(), [\"Genre\", \"Director\", \"MPAA_Rating\"]),\n",
    "    (MinMaxScaler(), [\"Release_Day\", \"Release_Month\", \"Release_Year\"]),\n",
    "    n_jobs=-1,\n",
    "    sparse_threshold=0,\n",
    "    verbose_feature_names_out=False,\n",
    ")\n"
   ]
  },
  {
   "cell_type": "code",
   "execution_count": null,
   "metadata": {},
   "outputs": [],
   "source": [
    "prep_x_train = ohe_column_transformer.fit_transform(x_train)\n",
    "prep_x_test = ohe_column_transformer.transform(x_test)\n"
   ]
  },
  {
   "cell_type": "code",
   "execution_count": null,
   "metadata": {},
   "outputs": [],
   "source": [
    "print(prep_x_train.shape, prep_x_test.shape)\n"
   ]
  },
  {
   "cell_type": "markdown",
   "metadata": {},
   "source": [
    "### Models"
   ]
  },
  {
   "cell_type": "markdown",
   "metadata": {},
   "source": [
    "#### Basic Linear Regression"
   ]
  },
  {
   "cell_type": "code",
   "execution_count": null,
   "metadata": {},
   "outputs": [],
   "source": [
    "lr_model = LinearRegression(n_jobs=-1)\n",
    "lr_model.fit(prep_x_train, y_train)\n",
    "lr_model_y_predict = lr_model.predict(prep_x_test)\n"
   ]
  },
  {
   "cell_type": "code",
   "execution_count": null,
   "metadata": {},
   "outputs": [],
   "source": [
    "print(y_test.iloc[0], lr_model_y_predict[0])\n",
    "metrics.mean_squared_error(y_test, lr_model_y_predict)\n"
   ]
  },
  {
   "cell_type": "markdown",
   "metadata": {},
   "source": [
    "#### Basic Ridge Regression"
   ]
  },
  {
   "cell_type": "code",
   "execution_count": null,
   "metadata": {},
   "outputs": [],
   "source": [
    "ridge_model = Ridge(alpha=0.001, max_iter=1000, random_state=7)\n",
    "ridge_model.fit(prep_x_train, y_train)\n",
    "ridge_model_y_predict = ridge_model.predict(prep_x_test)\n"
   ]
  },
  {
   "cell_type": "code",
   "execution_count": null,
   "metadata": {},
   "outputs": [],
   "source": [
    "print(y_test.iloc[0], ridge_model_y_predict[0])\n",
    "metrics.mean_squared_error(y_test, ridge_model_y_predict)\n"
   ]
  },
  {
   "cell_type": "markdown",
   "metadata": {},
   "source": [
    "#### Cross Validation"
   ]
  },
  {
   "cell_type": "code",
   "execution_count": null,
   "metadata": {},
   "outputs": [],
   "source": [
    "lr_cv = cross_val_score(LinearRegression(n_jobs=-1), prep_x_train, y_train, cv=10, scoring=\"r2\")\n",
    "print(lr_cv, lr_cv.mean(), sep=\"\\n\", end=ENDDEL)\n"
   ]
  },
  {
   "cell_type": "code",
   "execution_count": null,
   "metadata": {},
   "outputs": [],
   "source": [
    "ridge_cv = cross_val_score(ridge_model, prep_x_train, y_train, cv=10, scoring=\"r2\")\n",
    "print(ridge_cv, ridge_cv.mean(), sep=\"\\n\", end=ENDDEL)\n"
   ]
  },
  {
   "cell_type": "markdown",
   "metadata": {},
   "source": [
    "#### RFE"
   ]
  },
  {
   "cell_type": "code",
   "execution_count": null,
   "metadata": {},
   "outputs": [],
   "source": [
    "lr_rfe = RFE(LinearRegression())\n",
    "lr_rfe.fit(prep_x_train, y_train)\n"
   ]
  },
  {
   "cell_type": "code",
   "execution_count": null,
   "metadata": {},
   "outputs": [],
   "source": [
    "ridge_rfe = RFE(Ridge(alpha=0.001, max_iter=1000, random_state=7))\n",
    "ridge_rfe.fit(prep_x_train, y_train)\n"
   ]
  },
  {
   "cell_type": "markdown",
   "metadata": {},
   "source": [
    "#### Grid Search"
   ]
  },
  {
   "cell_type": "markdown",
   "metadata": {},
   "source": [
    "##### Linear Regression"
   ]
  },
  {
   "cell_type": "code",
   "execution_count": null,
   "metadata": {},
   "outputs": [],
   "source": [
    "lr_gs_model = GridSearchCV(\n",
    "    estimator=lr_rfe,\n",
    "    param_grid={\"n_features_to_select\": list(range(1, prep_x_train.shape[1]))},\n",
    "    scoring=\"r2\",\n",
    "    cv=KFold(n_splits=5, shuffle=True, random_state=7),\n",
    "    verbose=1,\n",
    "    return_train_score=True,\n",
    "    n_jobs=-1,\n",
    ")\n"
   ]
  },
  {
   "cell_type": "code",
   "execution_count": null,
   "metadata": {},
   "outputs": [],
   "source": [
    "lr_gs_model.fit(prep_x_train, y_train)\n",
    "lr_gs_y_pred = lr_gs_model.predict(prep_x_test)\n"
   ]
  },
  {
   "cell_type": "code",
   "execution_count": null,
   "metadata": {},
   "outputs": [],
   "source": [
    "metrics.mean_squared_error(y_test, lr_gs_y_pred)\n"
   ]
  },
  {
   "cell_type": "markdown",
   "metadata": {},
   "source": [
    "##### Ridge Regression"
   ]
  },
  {
   "cell_type": "code",
   "execution_count": null,
   "metadata": {},
   "outputs": [],
   "source": [
    "ridge_gs_model = GridSearchCV(\n",
    "    estimator=ridge_rfe,\n",
    "    param_grid={\"n_features_to_select\": list(range(1, prep_x_train.shape[1]))},\n",
    "    scoring=\"r2\",\n",
    "    cv=KFold(n_splits=5, shuffle=True, random_state=7),\n",
    "    verbose=1,\n",
    "    return_train_score=True,\n",
    ")\n"
   ]
  },
  {
   "cell_type": "code",
   "execution_count": null,
   "metadata": {},
   "outputs": [],
   "source": [
    "ridge_gs_model.fit(prep_x_train, y_train)\n",
    "ridge_gs_y_pred = ridge_gs_model.predict(prep_x_test)\n"
   ]
  },
  {
   "cell_type": "code",
   "execution_count": null,
   "metadata": {},
   "outputs": [],
   "source": [
    "metrics.mean_squared_error(y_test, ridge_gs_y_pred)\n"
   ]
  }
 ],
 "metadata": {
  "kernelspec": {
   "display_name": "Python 3.11.0 ('ml')",
   "language": "python",
   "name": "python3"
  },
  "language_info": {
   "codemirror_mode": {
    "name": "ipython",
    "version": 3
   },
   "file_extension": ".py",
   "mimetype": "text/x-python",
   "name": "python",
   "nbconvert_exporter": "python",
   "pygments_lexer": "ipython3",
   "version": "3.11.0"
  },
  "orig_nbformat": 4,
  "vscode": {
   "interpreter": {
    "hash": "08eac26dc1f80337b7d87e94e7159a5bad95c2e85f47efef91c61359b3afbfe9"
   }
  }
 },
 "nbformat": 4,
 "nbformat_minor": 2
}
